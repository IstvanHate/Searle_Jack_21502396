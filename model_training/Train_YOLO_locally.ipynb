{
  "cells": [
    {
      "cell_type": "markdown",
      "metadata": {
        "id": "1sUfcA8ZgR2t"
      },
      "source": [
        "# Train YOLO Models local\n",
        "\n",
        "This notebook uses [Ultralytics](https://docs.ultralytics.com/) to train YOLO11, YOLOv8, or YOLOv5 object detection models with a custom dataset. At the end of this Colab, you'll have a custom YOLO model that you can run on your PC, phone, or edge device like the Raspberry Pi.\n",
        "\n",
        "**Adapted from:** Evan Juras, [EJ Technology Consultants](https://ejtech.io)"
      ]
    },
    {
      "cell_type": "markdown",
      "metadata": {
        "id": "3NW7LLv_QPOO"
      },
      "source": [
        "**Verify NVIDIA GPU Availability**\n",
        "\n",
        "Make sure you're using a GPU-equipped machine by going to \"Runtime\" -> \"Change runtime type\" in the top menu bar, and then selecting one of the GPU options in the Hardware accelerator section. Click Play on the following code block to verify that the NVIDIA GPU is present and ready for training."
      ]
    },
    {
      "cell_type": "code",
      "execution_count": 2,
      "metadata": {
        "colab": {
          "base_uri": "https://localhost:8080/"
        },
        "id": "cfaWho47RGDf",
        "outputId": "4f3c2afa-69c3-47a6-df99-45bd94894910"
      },
      "outputs": [
        {
          "name": "stdout",
          "output_type": "stream",
          "text": [
            "Wed Oct  8 03:07:44 2025       \n",
            "+---------------------------------------------------------------------------------------+\n",
            "| NVIDIA-SMI 535.247.01             Driver Version: 535.247.01   CUDA Version: 12.2     |\n",
            "|-----------------------------------------+----------------------+----------------------+\n",
            "| GPU  Name                 Persistence-M | Bus-Id        Disp.A | Volatile Uncorr. ECC |\n",
            "| Fan  Temp   Perf          Pwr:Usage/Cap |         Memory-Usage | GPU-Util  Compute M. |\n",
            "|                                         |                      |               MIG M. |\n",
            "|=========================================+======================+======================|\n",
            "|   0  NVIDIA GeForce RTX 3060        Off | 00000000:01:00.0 Off |                  N/A |\n",
            "| 63%   81C    P2             142W / 170W |   2242MiB / 12288MiB |     94%      Default |\n",
            "|                                         |                      |                  N/A |\n",
            "+-----------------------------------------+----------------------+----------------------+\n",
            "                                                                                         \n",
            "+---------------------------------------------------------------------------------------+\n",
            "| Processes:                                                                            |\n",
            "|  GPU   GI   CI        PID   Type   Process name                            GPU Memory |\n",
            "|        ID   ID                                                             Usage      |\n",
            "|=======================================================================================|\n",
            "|    0   N/A  N/A    315315      G   /usr/lib/xorg/Xorg                           73MiB |\n",
            "|    0   N/A  N/A    642024      C   python                                     2156MiB |\n",
            "+---------------------------------------------------------------------------------------+\n"
          ]
        }
      ],
      "source": [
        "!nvidia-smi"
      ]
    },
    {
      "cell_type": "markdown",
      "metadata": {
        "id": "8eDhuvzDfIFS"
      },
      "source": [
        "# 1.&nbsp;Upload Image Dataset and Prepare Training Data"
      ]
    },
    {
      "cell_type": "markdown",
      "metadata": {
        "id": "ZW_0c110fOiz"
      },
      "source": [
        "Next, we'll upload our dataset and prepare it for training with YOLO. We'll split the dataset into train and validation folders, and we'll automatically generate the configuration file for training the model."
      ]
    },
    {
      "cell_type": "markdown",
      "metadata": {
        "id": "FwKAqFIQSBpn"
      },
      "source": [
        "## 1.1 download images\n",
        "\n",
        "First, gotta get images for training our model.\n",
        "\n",
        "First, upload the `data.zip` file to your Google Drive, and make note of the folder you uploaded them to. Replace `MyDrive/path/to/data.zip` with the path to your zip file."
      ]
    },
    {
      "cell_type": "code",
      "execution_count": null,
      "metadata": {
        "colab": {
          "base_uri": "https://localhost:8080/"
        },
        "id": "ZfQBSwDdWoWp",
        "outputId": "6a7a5c1d-2e71-4d28-bcbf-6e1766243a56"
      },
      "outputs": [
        {
          "name": "stderr",
          "output_type": "stream",
          "text": [
            "Downloading...\n",
            "From: https://drive.google.com/uc?id=11c5TC5hcFqqE-SKTcmWIo5gecQ3sPtkF\n",
            "To: /home/21502396/Searle_Jack_21502396/model_training/training_data/task2dataYOLO.zip\n",
            "100%|██████████| 9.48M/9.48M [00:00<00:00, 11.0MB/s]\n",
            "\n",
            "978.12s - pydevd: Sending message related to process being replaced timed-out after 5 seconds\n"
          ]
        }
      ],
      "source": [
        "import gdown\n",
        "\n",
        "# everything here is untracked by .gitignore btw\n",
        "url = \"https://drive.google.com/uc?id=11c5TC5hcFqqE-SKTcmWIo5gecQ3sPtkF\"\n",
        "output = \"training_data/task2dataYOLO.zip\"\n",
        "gdown.download(url, output, quiet=False)\n",
        "\n",
        "!unzip -q training_data/task2dataYOLO.zip -d training_data/"
      ]
    },
    {
      "cell_type": "markdown",
      "metadata": {
        "id": "eoPjqW6AYebn"
      },
      "source": [
        "Ultralytics requires a particular folder structure to store training data for models. The root folder is named “data”. Inside, there are two main folders:\n",
        "\n",
        "*   **Train**: These are the actual images used to train the model. In one epoch of training, every image in the train set is passed into the neural network. The training algorithm adjusts the network weights to fit the data in the images.\n",
        "\n",
        "\n",
        "*   **Validation**: These images are used to check the model's performance at the end of each training epoch.\n",
        "\n",
        "In each of these folders is a “images” folder and a “labels” folder, which hold the image files and annotation files respectively."
      ]
    },
    {
      "cell_type": "markdown",
      "metadata": {
        "id": "B2L2qGCJzwY9"
      },
      "source": [
        "# 3.&nbsp;Install Requirements (Ultralytics)\n",
        "\n",
        "Next, we'll install the Ultralytics library in this Google Colab instance. This Python library will be used to train the YOLO model."
      ]
    },
    {
      "cell_type": "code",
      "execution_count": 16,
      "metadata": {
        "colab": {
          "base_uri": "https://localhost:8080/"
        },
        "id": "EMEDk5byzxY5",
        "outputId": "a99c9be7-9b27-43b1-a6d8-26c98d235fd0"
      },
      "outputs": [
        {
          "name": "stderr",
          "output_type": "stream",
          "text": [
            "1072.25s - pydevd: Sending message related to process being replaced timed-out after 5 seconds\n"
          ]
        },
        {
          "name": "stdout",
          "output_type": "stream",
          "text": [
            "Collecting ultralytics\n",
            "  Downloading ultralytics-8.3.206-py3-none-any.whl.metadata (37 kB)\n",
            "Requirement already satisfied: numpy>=1.23.0 in /home/21502396/miniconda3/envs/COMP3007_venv/lib/python3.13/site-packages (from ultralytics) (2.3.1)\n",
            "Requirement already satisfied: matplotlib>=3.3.0 in /home/21502396/miniconda3/envs/COMP3007_venv/lib/python3.13/site-packages (from ultralytics) (3.10.0)\n",
            "Collecting opencv-python>=4.6.0 (from ultralytics)\n",
            "  Using cached opencv_python-4.12.0.88-cp37-abi3-manylinux2014_x86_64.manylinux_2_17_x86_64.whl.metadata (19 kB)\n",
            "Requirement already satisfied: pillow>=7.1.2 in /home/21502396/miniconda3/envs/COMP3007_venv/lib/python3.13/site-packages (from ultralytics) (11.3.0)\n",
            "Collecting pyyaml>=5.3.1 (from ultralytics)\n",
            "  Using cached pyyaml-6.0.3-cp313-cp313-manylinux2014_x86_64.manylinux_2_17_x86_64.manylinux_2_28_x86_64.whl.metadata (2.4 kB)\n",
            "Requirement already satisfied: requests>=2.23.0 in /home/21502396/miniconda3/envs/COMP3007_venv/lib/python3.13/site-packages (from ultralytics) (2.32.5)\n",
            "Collecting scipy>=1.4.1 (from ultralytics)\n",
            "  Using cached scipy-1.16.2-cp313-cp313-manylinux2014_x86_64.manylinux_2_17_x86_64.whl.metadata (62 kB)\n",
            "Collecting torch>=1.8.0 (from ultralytics)\n",
            "  Downloading torch-2.8.0-cp313-cp313-manylinux_2_28_x86_64.whl.metadata (30 kB)\n",
            "Collecting torchvision>=0.9.0 (from ultralytics)\n",
            "  Downloading torchvision-0.23.0-cp313-cp313-manylinux_2_28_x86_64.whl.metadata (6.1 kB)\n",
            "Requirement already satisfied: psutil in /home/21502396/miniconda3/envs/COMP3007_venv/lib/python3.13/site-packages (from ultralytics) (7.0.0)\n",
            "Collecting polars (from ultralytics)\n",
            "  Using cached polars-1.34.0-py3-none-any.whl.metadata (10 kB)\n",
            "Collecting ultralytics-thop>=2.0.0 (from ultralytics)\n",
            "  Downloading ultralytics_thop-2.0.17-py3-none-any.whl.metadata (14 kB)\n",
            "Requirement already satisfied: contourpy>=1.0.1 in /home/21502396/miniconda3/envs/COMP3007_venv/lib/python3.13/site-packages (from matplotlib>=3.3.0->ultralytics) (1.3.1)\n",
            "Requirement already satisfied: cycler>=0.10 in /home/21502396/miniconda3/envs/COMP3007_venv/lib/python3.13/site-packages (from matplotlib>=3.3.0->ultralytics) (0.11.0)\n",
            "Requirement already satisfied: fonttools>=4.22.0 in /home/21502396/miniconda3/envs/COMP3007_venv/lib/python3.13/site-packages (from matplotlib>=3.3.0->ultralytics) (4.55.3)\n",
            "Requirement already satisfied: kiwisolver>=1.3.1 in /home/21502396/miniconda3/envs/COMP3007_venv/lib/python3.13/site-packages (from matplotlib>=3.3.0->ultralytics) (1.4.8)\n",
            "Requirement already satisfied: packaging>=20.0 in /home/21502396/miniconda3/envs/COMP3007_venv/lib/python3.13/site-packages (from matplotlib>=3.3.0->ultralytics) (25.0)\n",
            "Requirement already satisfied: pyparsing>=2.3.1 in /home/21502396/miniconda3/envs/COMP3007_venv/lib/python3.13/site-packages (from matplotlib>=3.3.0->ultralytics) (3.2.0)\n",
            "Requirement already satisfied: python-dateutil>=2.7 in /home/21502396/miniconda3/envs/COMP3007_venv/lib/python3.13/site-packages (from matplotlib>=3.3.0->ultralytics) (2.9.0.post0)\n",
            "Collecting numpy>=1.23.0 (from ultralytics)\n",
            "  Using cached numpy-2.2.6-cp313-cp313-manylinux_2_17_x86_64.manylinux2014_x86_64.whl.metadata (62 kB)\n",
            "Requirement already satisfied: six>=1.5 in /home/21502396/miniconda3/envs/COMP3007_venv/lib/python3.13/site-packages (from python-dateutil>=2.7->matplotlib>=3.3.0->ultralytics) (1.17.0)\n",
            "Requirement already satisfied: charset_normalizer<4,>=2 in /home/21502396/miniconda3/envs/COMP3007_venv/lib/python3.13/site-packages (from requests>=2.23.0->ultralytics) (3.4.3)\n",
            "Requirement already satisfied: idna<4,>=2.5 in /home/21502396/miniconda3/envs/COMP3007_venv/lib/python3.13/site-packages (from requests>=2.23.0->ultralytics) (3.10)\n",
            "Requirement already satisfied: urllib3<3,>=1.21.1 in /home/21502396/miniconda3/envs/COMP3007_venv/lib/python3.13/site-packages (from requests>=2.23.0->ultralytics) (2.5.0)\n",
            "Requirement already satisfied: certifi>=2017.4.17 in /home/21502396/miniconda3/envs/COMP3007_venv/lib/python3.13/site-packages (from requests>=2.23.0->ultralytics) (2025.10.5)\n",
            "Requirement already satisfied: filelock in /home/21502396/miniconda3/envs/COMP3007_venv/lib/python3.13/site-packages (from torch>=1.8.0->ultralytics) (3.19.1)\n",
            "Requirement already satisfied: typing-extensions>=4.10.0 in /home/21502396/miniconda3/envs/COMP3007_venv/lib/python3.13/site-packages (from torch>=1.8.0->ultralytics) (4.15.0)\n",
            "Requirement already satisfied: setuptools in /home/21502396/miniconda3/envs/COMP3007_venv/lib/python3.13/site-packages (from torch>=1.8.0->ultralytics) (72.1.0)\n",
            "Collecting sympy>=1.13.3 (from torch>=1.8.0->ultralytics)\n",
            "  Downloading sympy-1.14.0-py3-none-any.whl.metadata (12 kB)\n",
            "Collecting networkx (from torch>=1.8.0->ultralytics)\n",
            "  Downloading networkx-3.5-py3-none-any.whl.metadata (6.3 kB)\n",
            "Collecting jinja2 (from torch>=1.8.0->ultralytics)\n",
            "  Downloading jinja2-3.1.6-py3-none-any.whl.metadata (2.9 kB)\n",
            "Collecting fsspec (from torch>=1.8.0->ultralytics)\n",
            "  Downloading fsspec-2025.9.0-py3-none-any.whl.metadata (10 kB)\n",
            "Collecting nvidia-cuda-nvrtc-cu12==12.8.93 (from torch>=1.8.0->ultralytics)\n",
            "  Downloading nvidia_cuda_nvrtc_cu12-12.8.93-py3-none-manylinux2010_x86_64.manylinux_2_12_x86_64.whl.metadata (1.7 kB)\n",
            "Collecting nvidia-cuda-runtime-cu12==12.8.90 (from torch>=1.8.0->ultralytics)\n",
            "  Downloading nvidia_cuda_runtime_cu12-12.8.90-py3-none-manylinux2014_x86_64.manylinux_2_17_x86_64.whl.metadata (1.7 kB)\n",
            "Collecting nvidia-cuda-cupti-cu12==12.8.90 (from torch>=1.8.0->ultralytics)\n",
            "  Downloading nvidia_cuda_cupti_cu12-12.8.90-py3-none-manylinux2014_x86_64.manylinux_2_17_x86_64.whl.metadata (1.7 kB)\n",
            "Collecting nvidia-cudnn-cu12==9.10.2.21 (from torch>=1.8.0->ultralytics)\n",
            "  Downloading nvidia_cudnn_cu12-9.10.2.21-py3-none-manylinux_2_27_x86_64.whl.metadata (1.8 kB)\n",
            "Collecting nvidia-cublas-cu12==12.8.4.1 (from torch>=1.8.0->ultralytics)\n",
            "  Downloading nvidia_cublas_cu12-12.8.4.1-py3-none-manylinux_2_27_x86_64.whl.metadata (1.7 kB)\n",
            "Collecting nvidia-cufft-cu12==11.3.3.83 (from torch>=1.8.0->ultralytics)\n",
            "  Downloading nvidia_cufft_cu12-11.3.3.83-py3-none-manylinux2014_x86_64.manylinux_2_17_x86_64.whl.metadata (1.7 kB)\n",
            "Collecting nvidia-curand-cu12==10.3.9.90 (from torch>=1.8.0->ultralytics)\n",
            "  Downloading nvidia_curand_cu12-10.3.9.90-py3-none-manylinux_2_27_x86_64.whl.metadata (1.7 kB)\n",
            "Collecting nvidia-cusolver-cu12==11.7.3.90 (from torch>=1.8.0->ultralytics)\n",
            "  Downloading nvidia_cusolver_cu12-11.7.3.90-py3-none-manylinux_2_27_x86_64.whl.metadata (1.8 kB)\n",
            "Collecting nvidia-cusparse-cu12==12.5.8.93 (from torch>=1.8.0->ultralytics)\n",
            "  Downloading nvidia_cusparse_cu12-12.5.8.93-py3-none-manylinux2014_x86_64.manylinux_2_17_x86_64.whl.metadata (1.8 kB)\n",
            "Collecting nvidia-cusparselt-cu12==0.7.1 (from torch>=1.8.0->ultralytics)\n",
            "  Downloading nvidia_cusparselt_cu12-0.7.1-py3-none-manylinux2014_x86_64.whl.metadata (7.0 kB)\n",
            "Collecting nvidia-nccl-cu12==2.27.3 (from torch>=1.8.0->ultralytics)\n",
            "  Downloading nvidia_nccl_cu12-2.27.3-py3-none-manylinux2014_x86_64.manylinux_2_17_x86_64.whl.metadata (2.0 kB)\n",
            "Collecting nvidia-nvtx-cu12==12.8.90 (from torch>=1.8.0->ultralytics)\n",
            "  Downloading nvidia_nvtx_cu12-12.8.90-py3-none-manylinux2014_x86_64.manylinux_2_17_x86_64.whl.metadata (1.8 kB)\n",
            "Collecting nvidia-nvjitlink-cu12==12.8.93 (from torch>=1.8.0->ultralytics)\n",
            "  Downloading nvidia_nvjitlink_cu12-12.8.93-py3-none-manylinux2010_x86_64.manylinux_2_12_x86_64.whl.metadata (1.7 kB)\n",
            "Collecting nvidia-cufile-cu12==1.13.1.3 (from torch>=1.8.0->ultralytics)\n",
            "  Downloading nvidia_cufile_cu12-1.13.1.3-py3-none-manylinux2014_x86_64.manylinux_2_17_x86_64.whl.metadata (1.7 kB)\n",
            "Collecting triton==3.4.0 (from torch>=1.8.0->ultralytics)\n",
            "  Downloading triton-3.4.0-cp313-cp313-manylinux_2_27_x86_64.manylinux_2_28_x86_64.whl.metadata (1.7 kB)\n",
            "Collecting mpmath<1.4,>=1.1.0 (from sympy>=1.13.3->torch>=1.8.0->ultralytics)\n",
            "  Using cached mpmath-1.3.0-py3-none-any.whl.metadata (8.6 kB)\n",
            "Collecting MarkupSafe>=2.0 (from jinja2->torch>=1.8.0->ultralytics)\n",
            "  Downloading markupsafe-3.0.3-cp313-cp313-manylinux2014_x86_64.manylinux_2_17_x86_64.manylinux_2_28_x86_64.whl.metadata (2.7 kB)\n",
            "Collecting polars-runtime-32==1.34.0 (from polars->ultralytics)\n",
            "  Using cached polars_runtime_32-1.34.0-cp39-abi3-manylinux_2_17_x86_64.manylinux2014_x86_64.whl.metadata (1.5 kB)\n",
            "Downloading ultralytics-8.3.206-py3-none-any.whl (1.1 MB)\n",
            "\u001b[2K   \u001b[90m━━━━━━━━━━━━━━━━━━━━━━━━━━━━━━━━━━━━━━━━\u001b[0m \u001b[32m1.1/1.1 MB\u001b[0m \u001b[31m18.2 MB/s\u001b[0m eta \u001b[36m0:00:00\u001b[0m\n",
            "\u001b[?25hDownloading opencv_python-4.12.0.88-cp37-abi3-manylinux2014_x86_64.manylinux_2_17_x86_64.whl (67.0 MB)\n",
            "\u001b[2K   \u001b[90m━━━━━━━━━━━━━━━━━━━━━━━━━━━━━━━━━━━━━━━━\u001b[0m \u001b[32m67.0/67.0 MB\u001b[0m \u001b[31m33.7 MB/s\u001b[0m eta \u001b[36m0:00:00\u001b[0m00:01\u001b[0m00:01\u001b[0mm\n",
            "\u001b[?25hDownloading numpy-2.2.6-cp313-cp313-manylinux_2_17_x86_64.manylinux2014_x86_64.whl (16.5 MB)\n",
            "\u001b[2K   \u001b[90m━━━━━━━━━━━━━━━━━━━━━━━━━━━━━━━━━━━━━━━━\u001b[0m \u001b[32m16.5/16.5 MB\u001b[0m \u001b[31m28.4 MB/s\u001b[0m eta \u001b[36m0:00:00\u001b[0m00:01\u001b[0m00:01\u001b[0m\n",
            "\u001b[?25hDownloading pyyaml-6.0.3-cp313-cp313-manylinux2014_x86_64.manylinux_2_17_x86_64.manylinux_2_28_x86_64.whl (801 kB)\n",
            "\u001b[2K   \u001b[90m━━━━━━━━━━━━━━━━━━━━━━━━━━━━━━━━━━━━━━━━\u001b[0m \u001b[32m801.6/801.6 kB\u001b[0m \u001b[31m15.2 MB/s\u001b[0m eta \u001b[36m0:00:00\u001b[0m\n",
            "\u001b[?25hDownloading scipy-1.16.2-cp313-cp313-manylinux2014_x86_64.manylinux_2_17_x86_64.whl (35.7 MB)\n",
            "\u001b[2K   \u001b[90m━━━━━━━━━━━━━━━━━━━━━━━━━━━━━━━━━━━━━━━━\u001b[0m \u001b[32m35.7/35.7 MB\u001b[0m \u001b[31m12.0 MB/s\u001b[0m eta \u001b[36m0:00:00\u001b[0m00:01\u001b[0m00:01\u001b[0m\n",
            "\u001b[?25hDownloading torch-2.8.0-cp313-cp313-manylinux_2_28_x86_64.whl (887.9 MB)\n",
            "\u001b[2K   \u001b[90m━━━━━━━━━━━━━━━━━━━━━━━━━━━━━━━━━━━━━━━━\u001b[0m \u001b[32m887.9/887.9 MB\u001b[0m \u001b[31m8.3 MB/s\u001b[0m eta \u001b[36m0:00:00\u001b[0m:00:01\u001b[0m00:03\u001b[0m\n",
            "\u001b[?25hDownloading nvidia_cublas_cu12-12.8.4.1-py3-none-manylinux_2_27_x86_64.whl (594.3 MB)\n",
            "\u001b[2K   \u001b[90m━━━━━━━━━━━━━━━━━━━━━━━━━━━━━━━━━━━━━━━━\u001b[0m \u001b[32m594.3/594.3 MB\u001b[0m \u001b[31m32.3 MB/s\u001b[0m eta \u001b[36m0:00:00\u001b[0m00:01\u001b[0m00:01\u001b[0m\n",
            "\u001b[?25hDownloading nvidia_cuda_cupti_cu12-12.8.90-py3-none-manylinux2014_x86_64.manylinux_2_17_x86_64.whl (10.2 MB)\n",
            "\u001b[2K   \u001b[90m━━━━━━━━━━━━━━━━━━━━━━━━━━━━━━━━━━━━━━━━\u001b[0m \u001b[32m10.2/10.2 MB\u001b[0m \u001b[31m47.4 MB/s\u001b[0m eta \u001b[36m0:00:00\u001b[0m:00:01\u001b[0m\n",
            "\u001b[?25hDownloading nvidia_cuda_nvrtc_cu12-12.8.93-py3-none-manylinux2010_x86_64.manylinux_2_12_x86_64.whl (88.0 MB)\n",
            "\u001b[2K   \u001b[90m━━━━━━━━━━━━━━━━━━━━━━━━━━━━━━━━━━━━━━━━\u001b[0m \u001b[32m88.0/88.0 MB\u001b[0m \u001b[31m55.0 MB/s\u001b[0m eta \u001b[36m0:00:00\u001b[0m:00:01\u001b[0m00:01\u001b[0m\n",
            "\u001b[?25hDownloading nvidia_cuda_runtime_cu12-12.8.90-py3-none-manylinux2014_x86_64.manylinux_2_17_x86_64.whl (954 kB)\n",
            "\u001b[2K   \u001b[90m━━━━━━━━━━━━━━━━━━━━━━━━━━━━━━━━━━━━━━━━\u001b[0m \u001b[32m954.8/954.8 kB\u001b[0m \u001b[31m17.7 MB/s\u001b[0m eta \u001b[36m0:00:00\u001b[0m\n",
            "\u001b[?25hDownloading nvidia_cudnn_cu12-9.10.2.21-py3-none-manylinux_2_27_x86_64.whl (706.8 MB)\n",
            "\u001b[2K   \u001b[90m━━━━━━━━━━━━━━━━━━━━━━━━━━━━━━━━━━━━━━━━\u001b[0m \u001b[32m706.8/706.8 MB\u001b[0m \u001b[31m27.9 MB/s\u001b[0m eta \u001b[36m0:00:00\u001b[0m00:01\u001b[0m00:01\u001b[0m\n",
            "\u001b[?25hDownloading nvidia_cufft_cu12-11.3.3.83-py3-none-manylinux2014_x86_64.manylinux_2_17_x86_64.whl (193.1 MB)\n",
            "\u001b[2K   \u001b[90m━━━━━━━━━━━━━━━━━━━━━━━━━━━━━━━━━━━━━━━━\u001b[0m \u001b[32m193.1/193.1 MB\u001b[0m \u001b[31m56.3 MB/s\u001b[0m eta \u001b[36m0:00:00\u001b[0m00:01\u001b[0m00:01\u001b[0m\n",
            "\u001b[?25hDownloading nvidia_cufile_cu12-1.13.1.3-py3-none-manylinux2014_x86_64.manylinux_2_17_x86_64.whl (1.2 MB)\n",
            "\u001b[2K   \u001b[90m━━━━━━━━━━━━━━━━━━━━━━━━━━━━━━━━━━━━━━━━\u001b[0m \u001b[32m1.2/1.2 MB\u001b[0m \u001b[31m19.9 MB/s\u001b[0m eta \u001b[36m0:00:00\u001b[0m\n",
            "\u001b[?25hDownloading nvidia_curand_cu12-10.3.9.90-py3-none-manylinux_2_27_x86_64.whl (63.6 MB)\n",
            "\u001b[2K   \u001b[90m━━━━━━━━━━━━━━━━━━━━━━━━━━━━━━━━━━━━━━━━\u001b[0m \u001b[32m63.6/63.6 MB\u001b[0m \u001b[31m55.1 MB/s\u001b[0m eta \u001b[36m0:00:00\u001b[0m:00:01\u001b[0m00:01\u001b[0m\n",
            "\u001b[?25hDownloading nvidia_cusolver_cu12-11.7.3.90-py3-none-manylinux_2_27_x86_64.whl (267.5 MB)\n",
            "\u001b[2K   \u001b[90m━━━━━━━━━━━━━━━━━━━━━━━━━━━━━━━━━━━━━━━━\u001b[0m \u001b[32m267.5/267.5 MB\u001b[0m \u001b[31m50.7 MB/s\u001b[0m eta \u001b[36m0:00:00\u001b[0m00:01\u001b[0m00:01\u001b[0m\n",
            "\u001b[?25hDownloading nvidia_cusparse_cu12-12.5.8.93-py3-none-manylinux2014_x86_64.manylinux_2_17_x86_64.whl (288.2 MB)\n",
            "\u001b[2K   \u001b[90m━━━━━━━━━━━━━━━━━━━━━━━━━━━━━━━━━━━━━━━━\u001b[0m \u001b[32m288.2/288.2 MB\u001b[0m \u001b[31m53.6 MB/s\u001b[0m eta \u001b[36m0:00:00\u001b[0m00:01\u001b[0m00:01\u001b[0m\n",
            "\u001b[?25hDownloading nvidia_cusparselt_cu12-0.7.1-py3-none-manylinux2014_x86_64.whl (287.2 MB)\n",
            "\u001b[2K   \u001b[90m━━━━━━━━━━━━━━━━━━━━━━━━━━━━━━━━━━━━━━━━\u001b[0m \u001b[32m287.2/287.2 MB\u001b[0m \u001b[31m51.0 MB/s\u001b[0m eta \u001b[36m0:00:00\u001b[0m00:01\u001b[0m00:01\u001b[0m\n",
            "\u001b[?25hDownloading nvidia_nccl_cu12-2.27.3-py3-none-manylinux2014_x86_64.manylinux_2_17_x86_64.whl (322.4 MB)\n",
            "\u001b[2K   \u001b[90m━━━━━━━━━━━━━━━━━━━━━━━━━━━━━━━━━━━━━━━━\u001b[0m \u001b[32m322.4/322.4 MB\u001b[0m \u001b[31m50.5 MB/s\u001b[0m eta \u001b[36m0:00:00\u001b[0m00:01\u001b[0m00:01\u001b[0m\n",
            "\u001b[?25hDownloading nvidia_nvjitlink_cu12-12.8.93-py3-none-manylinux2010_x86_64.manylinux_2_12_x86_64.whl (39.3 MB)\n",
            "\u001b[2K   \u001b[90m━━━━━━━━━━━━━━━━━━━━━━━━━━━━━━━━━━━━━━━━\u001b[0m \u001b[32m39.3/39.3 MB\u001b[0m \u001b[31m52.8 MB/s\u001b[0m eta \u001b[36m0:00:00\u001b[0m:00:01\u001b[0m00:01\u001b[0m\n",
            "\u001b[?25hDownloading nvidia_nvtx_cu12-12.8.90-py3-none-manylinux2014_x86_64.manylinux_2_17_x86_64.whl (89 kB)\n",
            "Downloading triton-3.4.0-cp313-cp313-manylinux_2_27_x86_64.manylinux_2_28_x86_64.whl (155.6 MB)\n",
            "\u001b[2K   \u001b[90m━━━━━━━━━━━━━━━━━━━━━━━━━━━━━━━━━━━━━━━━\u001b[0m \u001b[32m155.6/155.6 MB\u001b[0m \u001b[31m12.2 MB/s\u001b[0m eta \u001b[36m0:00:00\u001b[0m00:01\u001b[0m00:01\u001b[0m\n",
            "\u001b[?25hDownloading sympy-1.14.0-py3-none-any.whl (6.3 MB)\n",
            "\u001b[2K   \u001b[90m━━━━━━━━━━━━━━━━━━━━━━━━━━━━━━━━━━━━━━━━\u001b[0m \u001b[32m6.3/6.3 MB\u001b[0m \u001b[31m44.3 MB/s\u001b[0m eta \u001b[36m0:00:00\u001b[0m\n",
            "\u001b[?25hDownloading mpmath-1.3.0-py3-none-any.whl (536 kB)\n",
            "\u001b[2K   \u001b[90m━━━━━━━━━━━━━━━━━━━━━━━━━━━━━━━━━━━━━━━━\u001b[0m \u001b[32m536.2/536.2 kB\u001b[0m \u001b[31m9.0 MB/s\u001b[0m eta \u001b[36m0:00:00\u001b[0m\n",
            "\u001b[?25hDownloading torchvision-0.23.0-cp313-cp313-manylinux_2_28_x86_64.whl (8.6 MB)\n",
            "\u001b[2K   \u001b[90m━━━━━━━━━━━━━━━━━━━━━━━━━━━━━━━━━━━━━━━━\u001b[0m \u001b[32m8.6/8.6 MB\u001b[0m \u001b[31m12.4 MB/s\u001b[0m eta \u001b[36m0:00:00\u001b[0ma \u001b[36m0:00:01\u001b[0mm\n",
            "\u001b[?25hDownloading ultralytics_thop-2.0.17-py3-none-any.whl (28 kB)\n",
            "Downloading fsspec-2025.9.0-py3-none-any.whl (199 kB)\n",
            "Downloading jinja2-3.1.6-py3-none-any.whl (134 kB)\n",
            "Downloading markupsafe-3.0.3-cp313-cp313-manylinux2014_x86_64.manylinux_2_17_x86_64.manylinux_2_28_x86_64.whl (22 kB)\n",
            "Downloading networkx-3.5-py3-none-any.whl (2.0 MB)\n",
            "\u001b[2K   \u001b[90m━━━━━━━━━━━━━━━━━━━━━━━━━━━━━━━━━━━━━━━━\u001b[0m \u001b[32m2.0/2.0 MB\u001b[0m \u001b[31m30.9 MB/s\u001b[0m eta \u001b[36m0:00:00\u001b[0m\n",
            "\u001b[?25hDownloading polars-1.34.0-py3-none-any.whl (772 kB)\n",
            "\u001b[2K   \u001b[90m━━━━━━━━━━━━━━━━━━━━━━━━━━━━━━━━━━━━━━━━\u001b[0m \u001b[32m772.7/772.7 kB\u001b[0m \u001b[31m15.5 MB/s\u001b[0m eta \u001b[36m0:00:00\u001b[0m\n",
            "\u001b[?25hDownloading polars_runtime_32-1.34.0-cp39-abi3-manylinux_2_17_x86_64.manylinux2014_x86_64.whl (40.3 MB)\n",
            "\u001b[2K   \u001b[90m━━━━━━━━━━━━━━━━━━━━━━━━━━━━━━━━━━━━━━━━\u001b[0m \u001b[32m40.3/40.3 MB\u001b[0m \u001b[31m53.7 MB/s\u001b[0m eta \u001b[36m0:00:00\u001b[0m:00:01\u001b[0m00:01\u001b[0m\n",
            "\u001b[?25hInstalling collected packages: nvidia-cusparselt-cu12, mpmath, triton, sympy, pyyaml, polars-runtime-32, nvidia-nvtx-cu12, nvidia-nvjitlink-cu12, nvidia-nccl-cu12, nvidia-curand-cu12, nvidia-cufile-cu12, nvidia-cuda-runtime-cu12, nvidia-cuda-nvrtc-cu12, nvidia-cuda-cupti-cu12, nvidia-cublas-cu12, numpy, networkx, MarkupSafe, fsspec, scipy, polars, opencv-python, nvidia-cusparse-cu12, nvidia-cufft-cu12, nvidia-cudnn-cu12, jinja2, nvidia-cusolver-cu12, torch, ultralytics-thop, torchvision, ultralytics\n",
            "\u001b[2K  Attempting uninstall: numpym\u001b[90m╺\u001b[0m\u001b[90m━━━━━━━━━━━━━━━━━━━━━\u001b[0m \u001b[32m14/31\u001b[0m [nvidia-cublas-cu12]u12]2]\n",
            "\u001b[2K    Found existing installation: numpy 2.3.1━━━━━━━━━━━━━━━━━━\u001b[0m \u001b[32m14/31\u001b[0m [nvidia-cublas-cu12]\n",
            "\u001b[2K    Uninstalling numpy-2.3.1:0m\u001b[90m╺\u001b[0m\u001b[90m━━━━━━━━━━━━━━━━━━━━\u001b[0m \u001b[32m15/31\u001b[0m [numpy]las-cu12]\n",
            "\u001b[2K      Successfully uninstalled numpy-2.3.1[90m━━━━━━━━━━━━━━━━━━━━\u001b[0m \u001b[32m15/31\u001b[0m [numpy]\n",
            "\u001b[2K   \u001b[90m━━━━━━━━━━━━━━━━━━━━━━━━━━━━━━━━━━━━━━━━\u001b[0m \u001b[32m31/31\u001b[0m [ultralytics]\u001b[0m [ultralytics]thop]u12]\n",
            "\u001b[1A\u001b[2KSuccessfully installed MarkupSafe-3.0.3 fsspec-2025.9.0 jinja2-3.1.6 mpmath-1.3.0 networkx-3.5 numpy-2.2.6 nvidia-cublas-cu12-12.8.4.1 nvidia-cuda-cupti-cu12-12.8.90 nvidia-cuda-nvrtc-cu12-12.8.93 nvidia-cuda-runtime-cu12-12.8.90 nvidia-cudnn-cu12-9.10.2.21 nvidia-cufft-cu12-11.3.3.83 nvidia-cufile-cu12-1.13.1.3 nvidia-curand-cu12-10.3.9.90 nvidia-cusolver-cu12-11.7.3.90 nvidia-cusparse-cu12-12.5.8.93 nvidia-cusparselt-cu12-0.7.1 nvidia-nccl-cu12-2.27.3 nvidia-nvjitlink-cu12-12.8.93 nvidia-nvtx-cu12-12.8.90 opencv-python-4.12.0.88 polars-1.34.0 polars-runtime-32-1.34.0 pyyaml-6.0.3 scipy-1.16.2 sympy-1.14.0 torch-2.8.0 torchvision-0.23.0 triton-3.4.0 ultralytics-8.3.206 ultralytics-thop-2.0.17\n"
          ]
        }
      ],
      "source": [
        "!pip install ultralytics"
      ]
    },
    {
      "cell_type": "markdown",
      "metadata": {
        "id": "cuZoMkSFN9XG"
      },
      "source": [
        "# 4.&nbsp;Configure Training\n"
      ]
    },
    {
      "cell_type": "markdown",
      "metadata": {
        "id": "0c5Kdh0GmQHS"
      },
      "source": [
        "There's one last step before we can run training: we need to create the Ultralytics training configuration YAML file. This file specifies the location of your train and validation data, and it also defines the model's classes. An example configuration file model is available [here](https://github.com/ultralytics/ultralytics/blob/main/ultralytics/cfg/datasets/coco128.yaml).\n",
        "\n",
        "Run the code block below to automatically generate a `data.yaml` configuration file. Make sure you have a labelmap file located at `custom_data/classes.txt`. If you used Label Studio or one of my pre-made datasets, it should already be present. If you assembled the dataset another way, you may have to manually create the `classes.txt` file (see [here](https://github.com/EdjeElectronics/Train-and-Deploy-YOLO-Models/blob/main/doc/classes.txt) for an example of how it's formatted)."
      ]
    },
    {
      "cell_type": "code",
      "execution_count": 17,
      "metadata": {
        "id": "4letvP7X12ji"
      },
      "outputs": [
        {
          "name": "stdout",
          "output_type": "stream",
          "text": [
            "classes.txt file not found! Please create a classes.txt labelmap and move it to model_training/training_data/classes.txt\n",
            "\n",
            "File contents:\n",
            "\n"
          ]
        },
        {
          "name": "stderr",
          "output_type": "stream",
          "text": [
            "1780.45s - pydevd: Sending message related to process being replaced timed-out after 5 seconds\n"
          ]
        },
        {
          "name": "stdout",
          "output_type": "stream",
          "text": [
            "cat: /content/data.yaml: No such file or directory\n"
          ]
        }
      ],
      "source": [
        "# @title\n",
        "# Python function to automatically create data.yaml config file\n",
        "# 1. Reads \"classes.txt\" file to get list of class names\n",
        "# 2. Creates data dictionary with correct paths to folders, number of classes, and names of classes\n",
        "# 3. Writes data in YAML format to data.yaml\n",
        "\n",
        "import yaml\n",
        "import os\n",
        "\n",
        "def create_data_yaml(path_to_classes_txt, path_to_data_yaml):\n",
        "\n",
        "  # Read class.txt to get class names\n",
        "  if not os.path.exists(path_to_classes_txt):\n",
        "    print(f'classes.txt file not found! Please create a classes.txt labelmap and move it to {path_to_classes_txt}')\n",
        "    return\n",
        "  with open(path_to_classes_txt, 'r') as f:\n",
        "    classes = []\n",
        "    for line in f.readlines():\n",
        "      if len(line.strip()) == 0: continue\n",
        "      classes.append(line.strip())\n",
        "  number_of_classes = len(classes)\n",
        "\n",
        "  # Create data dictionary\n",
        "  data = {\n",
        "      'path': '/content/data',\n",
        "      'train': 'train/images',\n",
        "      'val': 'validation/images',\n",
        "      'nc': number_of_classes,\n",
        "      'names': classes\n",
        "  }\n",
        "\n",
        "  # Write data to YAML file\n",
        "  with open(path_to_data_yaml, 'w') as f:\n",
        "    yaml.dump(data, f, sort_keys=False)\n",
        "  print(f'Created config file at {path_to_data_yaml}')\n",
        "\n",
        "  return\n",
        "\n",
        "# Define path to classes.txt and run function\n",
        "path_to_classes_txt = 'model_training/training_data/classes.txt'\n",
        "path_to_data_yaml = 'model_training/training_data/data.yaml'\n",
        "\n",
        "if os.path.exists(path_to_data_yaml):\n",
        "  print(f'{path_to_data_yaml} already exists. Please delete or rename before creating a new one.')\n",
        "else:\n",
        "  create_data_yaml(path_to_classes_txt, path_to_data_yaml)\n",
        "\n",
        "print('\\nFile contents:\\n')\n",
        "!cat /content/data.yaml"
      ]
    },
    {
      "cell_type": "markdown",
      "metadata": {
        "id": "myP80_bnTNMi"
      },
      "source": [
        "# 5.&nbsp;Train Model"
      ]
    },
    {
      "cell_type": "markdown",
      "metadata": {
        "id": "DfKspYasCzC8"
      },
      "source": [
        "## 5.1 Training Parameters\n",
        "Now that the data is organized and the config file is created, we're ready to start training! First, there are a few important parameters to decide on. Visit my article on [Training YOLO Models Locally](https://www.ejtech.io/learn/train-yolo-models) to learn more about these parameters and how to choose them.\n",
        "\n",
        "**Model architecture & size (`model`):**\n",
        "\n",
        "There are several YOLO11 models sizes available to train, including `yolo11n.pt`, `yolo11s.pt`, `yolo11m.pt`, `yolo11l.pt`, and `yolo11xl.pt`. Larger models run slower but have higher accuracy, while smaller models run faster but have lower accuracy. I made a brief YouTube video that compares performance of different YOLO models on a Raspberry Pi 5 and a laptop with a RTX 4050 GPU, [check it out here to get a sense of their speed accuracy](https://youtu.be/_WKS4E9SmkA). If you aren't sure which model size to use, `yolo11s.pt` is a good starting point.\n",
        "\n",
        "You can also train YOLOv8 or YOLOv5 models by substituting `yolo11` for `yolov8` or `yolov5`.\n",
        "\n",
        "\n",
        "**Number of epochs (`epochs`)**\n",
        "\n",
        "In machine learning, one “epoch” is one single pass through the full training dataset. Setting the number of epochs dictates how long the model will train for. The best amount of epochs to use depends on the size of the dataset and the model architecture. If your dataset has less than 200 images, a good starting point is 60 epochs. If your dataset has more than 200 images, a good starting point is 40 epochs.\n",
        "\n",
        "\n",
        "**Resolution (`imgsz`)**\n",
        "\n",
        "Resolution has a large impact on the speed and accuracy of the model: a lower resolution model will have higher speed but less accuracy. YOLO models are typically trained and inferenced at a 640x640 resolution. However, if you want your model to run faster or know you will be working with low-resolution images, try using a lower resolution like 480x480.\n"
      ]
    },
    {
      "cell_type": "markdown",
      "metadata": {
        "id": "V17UjYU5ZQdR"
      },
      "source": [
        "## 5.2 Run Training!"
      ]
    },
    {
      "cell_type": "markdown",
      "metadata": {
        "id": "nQi_hXnUVPr-"
      },
      "source": [
        "Run the following code block to begin training. If you want to use a different model, number of epochs, or resolution, change `model`, `epochs`, or `imgsz`."
      ]
    },
    {
      "cell_type": "code",
      "execution_count": 21,
      "metadata": {
        "colab": {
          "base_uri": "https://localhost:8080/"
        },
        "id": "8bbpob1gTPlo",
        "outputId": "e1de51ec-49b2-40a6-ac27-e8ab2743dc15"
      },
      "outputs": [
        {
          "name": "stderr",
          "output_type": "stream",
          "text": [
            "2010.33s - pydevd: Sending message related to process being replaced timed-out after 5 seconds\n"
          ]
        },
        {
          "name": "stdout",
          "output_type": "stream",
          "text": [
            "\u001b[KDownloading https://github.com/ultralytics/assets/releases/download/v8.3.0/yolov8s.pt to 'yolov8s.pt': 100% ━━━━━━━━━━━━ 21.5MB 60.0MB/s 0.4s0.3s<0.0s\n",
            "Ultralytics 8.3.206 🚀 Python-3.13.5 torch-2.8.0+cu128 CUDA:0 (NVIDIA GeForce RTX 3060, 12022MiB)\n",
            "\u001b[34m\u001b[1mengine/trainer: \u001b[0magnostic_nms=False, amp=True, augment=False, auto_augment=randaugment, batch=16, bgr=0.0, box=7.5, cache=False, cfg=None, classes=None, close_mosaic=10, cls=0.5, compile=False, conf=None, copy_paste=0.0, copy_paste_mode=flip, cos_lr=False, cutmix=0.0, data=training_data/data.yaml, degrees=0.0, deterministic=True, device=None, dfl=1.5, dnn=False, dropout=0.0, dynamic=False, embed=None, epochs=60, erasing=0.4, exist_ok=False, fliplr=0.5, flipud=0.0, format=torchscript, fraction=1.0, freeze=None, half=False, hsv_h=0.015, hsv_s=0.7, hsv_v=0.4, imgsz=640, int8=False, iou=0.7, keras=False, kobj=1.0, line_width=None, lr0=0.01, lrf=0.01, mask_ratio=4, max_det=300, mixup=0.0, mode=train, model=yolov8s.pt, momentum=0.937, mosaic=1.0, multi_scale=False, name=train2, nbs=64, nms=False, opset=None, optimize=False, optimizer=auto, overlap_mask=True, patience=100, perspective=0.0, plots=True, pose=12.0, pretrained=True, profile=False, project=None, rect=False, resume=False, retina_masks=False, save=True, save_conf=False, save_crop=False, save_dir=/home/21502396/Searle_Jack_21502396/model_training/runs/detect/train2, save_frames=False, save_json=False, save_period=-1, save_txt=False, scale=0.5, seed=0, shear=0.0, show=False, show_boxes=True, show_conf=True, show_labels=True, simplify=True, single_cls=False, source=None, split=val, stream_buffer=False, task=detect, time=None, tracker=botsort.yaml, translate=0.1, val=True, verbose=True, vid_stride=1, visualize=False, warmup_bias_lr=0.1, warmup_epochs=3.0, warmup_momentum=0.8, weight_decay=0.0005, workers=8, workspace=None\n",
            "\u001b[KDownloading https://ultralytics.com/assets/Arial.ttf to '/tmp/Ultralytics/Arial.ttf': 100% ━━━━━━━━━━━━ 755.1KB 87.7MB/s 0.0s\n",
            "Overriding model.yaml nc=80 with nc=1\n",
            "\n",
            "                   from  n    params  module                                       arguments                     \n",
            "  0                  -1  1       928  ultralytics.nn.modules.conv.Conv             [3, 32, 3, 2]                 \n",
            "  1                  -1  1     18560  ultralytics.nn.modules.conv.Conv             [32, 64, 3, 2]                \n",
            "  2                  -1  1     29056  ultralytics.nn.modules.block.C2f             [64, 64, 1, True]             \n",
            "  3                  -1  1     73984  ultralytics.nn.modules.conv.Conv             [64, 128, 3, 2]               \n",
            "  4                  -1  2    197632  ultralytics.nn.modules.block.C2f             [128, 128, 2, True]           \n",
            "  5                  -1  1    295424  ultralytics.nn.modules.conv.Conv             [128, 256, 3, 2]              \n",
            "  6                  -1  2    788480  ultralytics.nn.modules.block.C2f             [256, 256, 2, True]           \n",
            "  7                  -1  1   1180672  ultralytics.nn.modules.conv.Conv             [256, 512, 3, 2]              \n",
            "  8                  -1  1   1838080  ultralytics.nn.modules.block.C2f             [512, 512, 1, True]           \n",
            "  9                  -1  1    656896  ultralytics.nn.modules.block.SPPF            [512, 512, 5]                 \n",
            " 10                  -1  1         0  torch.nn.modules.upsampling.Upsample         [None, 2, 'nearest']          \n",
            " 11             [-1, 6]  1         0  ultralytics.nn.modules.conv.Concat           [1]                           \n",
            " 12                  -1  1    591360  ultralytics.nn.modules.block.C2f             [768, 256, 1]                 \n",
            " 13                  -1  1         0  torch.nn.modules.upsampling.Upsample         [None, 2, 'nearest']          \n",
            " 14             [-1, 4]  1         0  ultralytics.nn.modules.conv.Concat           [1]                           \n",
            " 15                  -1  1    148224  ultralytics.nn.modules.block.C2f             [384, 128, 1]                 \n",
            " 16                  -1  1    147712  ultralytics.nn.modules.conv.Conv             [128, 128, 3, 2]              \n",
            " 17            [-1, 12]  1         0  ultralytics.nn.modules.conv.Concat           [1]                           \n",
            " 18                  -1  1    493056  ultralytics.nn.modules.block.C2f             [384, 256, 1]                 \n",
            " 19                  -1  1    590336  ultralytics.nn.modules.conv.Conv             [256, 256, 3, 2]              \n",
            " 20             [-1, 9]  1         0  ultralytics.nn.modules.conv.Concat           [1]                           \n",
            " 21                  -1  1   1969152  ultralytics.nn.modules.block.C2f             [768, 512, 1]                 \n",
            " 22        [15, 18, 21]  1   2116435  ultralytics.nn.modules.head.Detect           [1, [128, 256, 512]]          \n",
            "Model summary: 129 layers, 11,135,987 parameters, 11,135,971 gradients, 28.6 GFLOPs\n",
            "\n",
            "Transferred 349/355 items from pretrained weights\n",
            "Freezing layer 'model.22.dfl.conv.weight'\n",
            "\u001b[34m\u001b[1mAMP: \u001b[0mrunning Automatic Mixed Precision (AMP) checks...\n",
            "\u001b[KDownloading https://github.com/ultralytics/assets/releases/download/v8.3.0/yolo11n.pt to 'yolo11n.pt': 100% ━━━━━━━━━━━━ 5.4MB 70.0MB/s 0.1s\n",
            "\u001b[34m\u001b[1mAMP: \u001b[0mchecks passed ✅\n",
            "\u001b[34m\u001b[1mtrain: \u001b[0mFast image access ✅ (ping: 0.0±0.0 ms, read: 3.1±2.9 MB/s, size: 5.3 KB)\n",
            "\u001b[K\u001b[34m\u001b[1mtrain: \u001b[0mScanning /home/21502396/Searle_Jack_21502396/model_training/training_data/train/labels... 1441 images, 0 backgrounds, 0 corrupt: 100% ━━━━━━━━━━━━ 1441/1441 1.1Kit/s 1.3s0.1s\n",
            "\u001b[34m\u001b[1mtrain: \u001b[0mNew cache created: /home/21502396/Searle_Jack_21502396/model_training/training_data/train/labels.cache\n",
            "\u001b[34m\u001b[1mval: \u001b[0mFast image access ✅ (ping: 0.0±0.0 ms, read: 1.6±1.6 MB/s, size: 5.0 KB)\n",
            "\u001b[K\u001b[34m\u001b[1mval: \u001b[0mScanning /home/21502396/Searle_Jack_21502396/model_training/training_data/valid/labels... 199 images, 1 backgrounds, 0 corrupt: 100% ━━━━━━━━━━━━ 199/199 1.2Kit/s 0.2s<0.3s\n",
            "\u001b[34m\u001b[1mval: \u001b[0mNew cache created: /home/21502396/Searle_Jack_21502396/model_training/training_data/valid/labels.cache\n",
            "Plotting labels to /home/21502396/Searle_Jack_21502396/model_training/runs/detect/train2/labels.jpg... \n",
            "\u001b[34m\u001b[1moptimizer:\u001b[0m 'optimizer=auto' found, ignoring 'lr0=0.01' and 'momentum=0.937' and determining best 'optimizer', 'lr0' and 'momentum' automatically... \n",
            "\u001b[34m\u001b[1moptimizer:\u001b[0m AdamW(lr=0.002, momentum=0.9) with parameter groups 57 weight(decay=0.0), 64 weight(decay=0.0005), 63 bias(decay=0.0)\n",
            "Image sizes 640 train, 640 val\n",
            "Using 8 dataloader workers\n",
            "Logging results to \u001b[1m/home/21502396/Searle_Jack_21502396/model_training/runs/detect/train2\u001b[0m\n",
            "Starting training for 60 epochs...\n",
            "\n",
            "      Epoch    GPU_mem   box_loss   cls_loss   dfl_loss  Instances       Size\n",
            "\u001b[K       1/60      3.54G      1.109       1.07      1.255          5        640: 100% ━━━━━━━━━━━━ 91/91 5.0it/s 18.3s0.2s\n",
            "\u001b[K                 Class     Images  Instances      Box(P          R      mAP50  mAP50-95): 100% ━━━━━━━━━━━━ 7/7 6.7it/s 1.0s0.2s\n",
            "                   all        199        609      0.833      0.875      0.914      0.579\n",
            "\n",
            "      Epoch    GPU_mem   box_loss   cls_loss   dfl_loss  Instances       Size\n",
            "\u001b[K       2/60      4.84G      1.123     0.8016      1.225          7        640: 100% ━━━━━━━━━━━━ 91/91 5.7it/s 16.1s0.4s\n",
            "\u001b[K                 Class     Images  Instances      Box(P          R      mAP50  mAP50-95): 100% ━━━━━━━━━━━━ 7/7 11.4it/s 0.6s.1s\n",
            "                   all        199        609      0.816      0.756      0.836      0.437\n",
            "\n",
            "      Epoch    GPU_mem   box_loss   cls_loss   dfl_loss  Instances       Size\n",
            "\u001b[K       3/60      4.89G      1.149     0.8037      1.246          6        640: 100% ━━━━━━━━━━━━ 91/91 5.7it/s 16.0s0.4s\n",
            "\u001b[K                 Class     Images  Instances      Box(P          R      mAP50  mAP50-95): 100% ━━━━━━━━━━━━ 7/7 11.3it/s 0.6s.1s\n",
            "                   all        199        609       0.89      0.903      0.948      0.639\n",
            "\n",
            "      Epoch    GPU_mem   box_loss   cls_loss   dfl_loss  Instances       Size\n",
            "\u001b[K       4/60      4.93G      1.104     0.7472      1.215          3        640: 100% ━━━━━━━━━━━━ 91/91 5.7it/s 16.1s0.4s\n",
            "\u001b[K                 Class     Images  Instances      Box(P          R      mAP50  mAP50-95): 100% ━━━━━━━━━━━━ 7/7 11.4it/s 0.6s.1s\n",
            "                   all        199        609      0.944      0.966       0.98      0.739\n",
            "\n",
            "      Epoch    GPU_mem   box_loss   cls_loss   dfl_loss  Instances       Size\n",
            "\u001b[K       5/60      4.95G       1.04      0.687      1.176          7        640: 100% ━━━━━━━━━━━━ 91/91 5.7it/s 16.1s0.4s\n",
            "\u001b[K                 Class     Images  Instances      Box(P          R      mAP50  mAP50-95): 100% ━━━━━━━━━━━━ 7/7 11.2it/s 0.6s.1s\n",
            "                   all        199        609      0.962      0.953      0.973      0.721\n",
            "\n",
            "      Epoch    GPU_mem   box_loss   cls_loss   dfl_loss  Instances       Size\n",
            "\u001b[K       6/60         5G      1.017     0.6398      1.164         12        640: 100% ━━━━━━━━━━━━ 91/91 5.6it/s 16.1s0.4s\n",
            "\u001b[K                 Class     Images  Instances      Box(P          R      mAP50  mAP50-95): 100% ━━━━━━━━━━━━ 7/7 11.3it/s 0.6s.1s\n",
            "                   all        199        609      0.952      0.934      0.984      0.736\n",
            "\n",
            "      Epoch    GPU_mem   box_loss   cls_loss   dfl_loss  Instances       Size\n",
            "\u001b[K       7/60      5.04G      1.012     0.6514      1.162          5        640: 100% ━━━━━━━━━━━━ 91/91 5.6it/s 16.1s0.4s\n",
            "\u001b[K                 Class     Images  Instances      Box(P          R      mAP50  mAP50-95): 100% ━━━━━━━━━━━━ 7/7 11.3it/s 0.6s.1s\n",
            "                   all        199        609      0.975      0.982      0.991      0.754\n",
            "\n",
            "      Epoch    GPU_mem   box_loss   cls_loss   dfl_loss  Instances       Size\n",
            "\u001b[K       8/60      5.07G     0.9906      0.602      1.146          2        640: 100% ━━━━━━━━━━━━ 91/91 5.6it/s 16.2s0.4s\n",
            "\u001b[K                 Class     Images  Instances      Box(P          R      mAP50  mAP50-95): 100% ━━━━━━━━━━━━ 7/7 11.3it/s 0.6s.1s\n",
            "                   all        199        609      0.974      0.977      0.992      0.754\n",
            "\n",
            "      Epoch    GPU_mem   box_loss   cls_loss   dfl_loss  Instances       Size\n",
            "\u001b[K       9/60       5.1G     0.9721     0.5872      1.128          7        640: 100% ━━━━━━━━━━━━ 91/91 5.6it/s 16.2s0.4s\n",
            "\u001b[K                 Class     Images  Instances      Box(P          R      mAP50  mAP50-95): 100% ━━━━━━━━━━━━ 7/7 11.3it/s 0.6s.1s\n",
            "                   all        199        609      0.975      0.975       0.99      0.752\n",
            "\n",
            "      Epoch    GPU_mem   box_loss   cls_loss   dfl_loss  Instances       Size\n",
            "\u001b[K      10/60      5.14G      0.978     0.5818      1.132          6        640: 100% ━━━━━━━━━━━━ 91/91 5.6it/s 16.2s0.4s\n",
            "\u001b[K                 Class     Images  Instances      Box(P          R      mAP50  mAP50-95): 100% ━━━━━━━━━━━━ 7/7 11.2it/s 0.6s.1s\n",
            "                   all        199        609      0.947      0.909      0.968      0.693\n",
            "\n",
            "      Epoch    GPU_mem   box_loss   cls_loss   dfl_loss  Instances       Size\n",
            "\u001b[K      11/60      5.18G     0.9718     0.5786      1.129          5        640: 100% ━━━━━━━━━━━━ 91/91 5.6it/s 16.2s0.4s\n",
            "\u001b[K                 Class     Images  Instances      Box(P          R      mAP50  mAP50-95): 100% ━━━━━━━━━━━━ 7/7 11.3it/s 0.6s.1s\n",
            "                   all        199        609      0.983      0.966      0.992      0.763\n",
            "\n",
            "      Epoch    GPU_mem   box_loss   cls_loss   dfl_loss  Instances       Size\n",
            "\u001b[K      12/60      5.22G      0.946     0.5677      1.115          2        640: 100% ━━━━━━━━━━━━ 91/91 5.6it/s 16.2s0.4s\n",
            "\u001b[K                 Class     Images  Instances      Box(P          R      mAP50  mAP50-95): 100% ━━━━━━━━━━━━ 7/7 11.3it/s 0.6s.1s\n",
            "                   all        199        609      0.987      0.973      0.992      0.766\n",
            "\n",
            "      Epoch    GPU_mem   box_loss   cls_loss   dfl_loss  Instances       Size\n",
            "\u001b[K      13/60      5.24G      0.955     0.5615      1.122         10        640: 100% ━━━━━━━━━━━━ 91/91 5.6it/s 16.2s0.4s\n",
            "\u001b[K                 Class     Images  Instances      Box(P          R      mAP50  mAP50-95): 100% ━━━━━━━━━━━━ 7/7 11.2it/s 0.6s.1s\n",
            "                   all        199        609       0.98      0.977      0.992      0.762\n",
            "\n",
            "      Epoch    GPU_mem   box_loss   cls_loss   dfl_loss  Instances       Size\n",
            "\u001b[K      14/60      5.29G     0.9389      0.533      1.121          3        640: 100% ━━━━━━━━━━━━ 91/91 5.6it/s 16.2s0.4s\n",
            "\u001b[K                 Class     Images  Instances      Box(P          R      mAP50  mAP50-95): 100% ━━━━━━━━━━━━ 7/7 11.2it/s 0.6s.1s\n",
            "                   all        199        609      0.982      0.962      0.991      0.766\n",
            "\n",
            "      Epoch    GPU_mem   box_loss   cls_loss   dfl_loss  Instances       Size\n",
            "\u001b[K      15/60      5.33G     0.9211      0.528       1.11          7        640: 100% ━━━━━━━━━━━━ 91/91 5.6it/s 16.2s0.4s\n",
            "\u001b[K                 Class     Images  Instances      Box(P          R      mAP50  mAP50-95): 100% ━━━━━━━━━━━━ 7/7 11.3it/s 0.6s.1s\n",
            "                   all        199        609      0.984      0.985      0.991      0.772\n",
            "\n",
            "      Epoch    GPU_mem   box_loss   cls_loss   dfl_loss  Instances       Size\n",
            "\u001b[K      16/60      5.36G     0.9427     0.5519      1.125          3        640: 100% ━━━━━━━━━━━━ 91/91 5.6it/s 16.2s0.4s\n",
            "\u001b[K                 Class     Images  Instances      Box(P          R      mAP50  mAP50-95): 100% ━━━━━━━━━━━━ 7/7 11.3it/s 0.6s.1s\n",
            "                   all        199        609      0.973       0.99      0.992      0.781\n",
            "\n",
            "      Epoch    GPU_mem   box_loss   cls_loss   dfl_loss  Instances       Size\n",
            "\u001b[K      17/60      5.39G     0.9155     0.5149      1.097         10        640: 100% ━━━━━━━━━━━━ 91/91 5.6it/s 16.2s0.4s\n",
            "\u001b[K                 Class     Images  Instances      Box(P          R      mAP50  mAP50-95): 100% ━━━━━━━━━━━━ 7/7 11.3it/s 0.6s.1s\n",
            "                   all        199        609       0.98      0.983      0.992      0.779\n",
            "\n",
            "      Epoch    GPU_mem   box_loss   cls_loss   dfl_loss  Instances       Size\n",
            "\u001b[K      18/60      5.44G      0.898     0.5052      1.092          5        640: 100% ━━━━━━━━━━━━ 91/91 5.6it/s 16.2s0.4s\n",
            "\u001b[K                 Class     Images  Instances      Box(P          R      mAP50  mAP50-95): 100% ━━━━━━━━━━━━ 7/7 11.3it/s 0.6s.1s\n",
            "                   all        199        609      0.971      0.995      0.993      0.786\n",
            "\n",
            "      Epoch    GPU_mem   box_loss   cls_loss   dfl_loss  Instances       Size\n",
            "\u001b[K      19/60      5.47G     0.8919     0.5021      1.093          3        640: 100% ━━━━━━━━━━━━ 91/91 5.6it/s 16.2s0.4s\n",
            "\u001b[K                 Class     Images  Instances      Box(P          R      mAP50  mAP50-95): 100% ━━━━━━━━━━━━ 7/7 11.3it/s 0.6s.1s\n",
            "                   all        199        609      0.978      0.964      0.991      0.778\n",
            "\n",
            "      Epoch    GPU_mem   box_loss   cls_loss   dfl_loss  Instances       Size\n",
            "\u001b[K      20/60      5.51G     0.9025     0.5003      1.101          3        640: 100% ━━━━━━━━━━━━ 91/91 5.6it/s 16.2s0.4s\n",
            "\u001b[K                 Class     Images  Instances      Box(P          R      mAP50  mAP50-95): 100% ━━━━━━━━━━━━ 7/7 11.3it/s 0.6s.1s\n",
            "                   all        199        609      0.987      0.992      0.993      0.801\n",
            "\n",
            "      Epoch    GPU_mem   box_loss   cls_loss   dfl_loss  Instances       Size\n",
            "\u001b[K      21/60      5.53G     0.8822     0.4824      1.078          4        640: 100% ━━━━━━━━━━━━ 91/91 5.6it/s 16.2s0.4s\n",
            "\u001b[K                 Class     Images  Instances      Box(P          R      mAP50  mAP50-95): 100% ━━━━━━━━━━━━ 7/7 11.3it/s 0.6s.1s\n",
            "                   all        199        609      0.976      0.997      0.993      0.793\n",
            "\n",
            "      Epoch    GPU_mem   box_loss   cls_loss   dfl_loss  Instances       Size\n",
            "\u001b[K      22/60      5.58G     0.8719     0.4958      1.084          1        640: 100% ━━━━━━━━━━━━ 91/91 5.6it/s 16.2s0.4s\n",
            "\u001b[K                 Class     Images  Instances      Box(P          R      mAP50  mAP50-95): 100% ━━━━━━━━━━━━ 7/7 11.3it/s 0.6s.1s\n",
            "                   all        199        609       0.98      0.987      0.992      0.787\n",
            "\n",
            "      Epoch    GPU_mem   box_loss   cls_loss   dfl_loss  Instances       Size\n",
            "\u001b[K      23/60      5.62G     0.8753     0.4832      1.075          5        640: 100% ━━━━━━━━━━━━ 91/91 5.6it/s 16.2s0.4s\n",
            "\u001b[K                 Class     Images  Instances      Box(P          R      mAP50  mAP50-95): 100% ━━━━━━━━━━━━ 7/7 11.3it/s 0.6s.1s\n",
            "                   all        199        609       0.98      0.975      0.991      0.788\n",
            "\n",
            "      Epoch    GPU_mem   box_loss   cls_loss   dfl_loss  Instances       Size\n",
            "\u001b[K      24/60      5.65G     0.8706     0.4701      1.081          4        640: 100% ━━━━━━━━━━━━ 91/91 5.6it/s 16.2s0.4s\n",
            "\u001b[K                 Class     Images  Instances      Box(P          R      mAP50  mAP50-95): 100% ━━━━━━━━━━━━ 7/7 11.3it/s 0.6s.1s\n",
            "                   all        199        609       0.99      0.992      0.992      0.784\n",
            "\n",
            "      Epoch    GPU_mem   box_loss   cls_loss   dfl_loss  Instances       Size\n",
            "\u001b[K      25/60      5.68G     0.8565     0.4623      1.066          6        640: 100% ━━━━━━━━━━━━ 91/91 5.6it/s 16.2s0.4s\n",
            "\u001b[K                 Class     Images  Instances      Box(P          R      mAP50  mAP50-95): 100% ━━━━━━━━━━━━ 7/7 11.3it/s 0.6s.1s\n",
            "                   all        199        609      0.979      0.995      0.992      0.787\n",
            "\n",
            "      Epoch    GPU_mem   box_loss   cls_loss   dfl_loss  Instances       Size\n",
            "\u001b[K      26/60      5.73G     0.8649     0.4634       1.07          5        640: 100% ━━━━━━━━━━━━ 91/91 5.6it/s 16.2s0.4s\n",
            "\u001b[K                 Class     Images  Instances      Box(P          R      mAP50  mAP50-95): 100% ━━━━━━━━━━━━ 7/7 11.3it/s 0.6s.1s\n",
            "                   all        199        609      0.983      0.993      0.992      0.788\n",
            "\n",
            "      Epoch    GPU_mem   box_loss   cls_loss   dfl_loss  Instances       Size\n",
            "\u001b[K      27/60      5.76G     0.8612     0.4628      1.069          4        640: 100% ━━━━━━━━━━━━ 91/91 5.6it/s 16.2s0.4s\n",
            "\u001b[K                 Class     Images  Instances      Box(P          R      mAP50  mAP50-95): 100% ━━━━━━━━━━━━ 7/7 11.3it/s 0.6s.1s\n",
            "                   all        199        609      0.984      0.993      0.994      0.792\n",
            "\n",
            "      Epoch    GPU_mem   box_loss   cls_loss   dfl_loss  Instances       Size\n",
            "\u001b[K      28/60       5.8G     0.8396     0.4519      1.064          8        640: 100% ━━━━━━━━━━━━ 91/91 5.6it/s 16.2s0.4s\n",
            "\u001b[K                 Class     Images  Instances      Box(P          R      mAP50  mAP50-95): 100% ━━━━━━━━━━━━ 7/7 11.3it/s 0.6s.1s\n",
            "                   all        199        609      0.981      0.996      0.993      0.795\n",
            "\n",
            "      Epoch    GPU_mem   box_loss   cls_loss   dfl_loss  Instances       Size\n",
            "\u001b[K      29/60      5.82G      0.827     0.4384      1.049         11        640: 100% ━━━━━━━━━━━━ 91/91 5.6it/s 16.2s0.4s\n",
            "\u001b[K                 Class     Images  Instances      Box(P          R      mAP50  mAP50-95): 100% ━━━━━━━━━━━━ 7/7 11.0it/s 0.6s.1s\n",
            "                   all        199        609      0.977      0.995      0.993      0.804\n",
            "\n",
            "      Epoch    GPU_mem   box_loss   cls_loss   dfl_loss  Instances       Size\n",
            "\u001b[K      30/60      5.87G     0.8308     0.4399      1.058          8        640: 100% ━━━━━━━━━━━━ 91/91 5.6it/s 16.2s0.4s\n",
            "\u001b[K                 Class     Images  Instances      Box(P          R      mAP50  mAP50-95): 100% ━━━━━━━━━━━━ 7/7 11.4it/s 0.6s.1s\n",
            "                   all        199        609      0.986      0.989      0.992      0.793\n",
            "\n",
            "      Epoch    GPU_mem   box_loss   cls_loss   dfl_loss  Instances       Size\n",
            "\u001b[K      31/60      3.62G     0.8271     0.4471      1.057          3        640: 100% ━━━━━━━━━━━━ 91/91 5.6it/s 16.2s0.4s\n",
            "\u001b[K                 Class     Images  Instances      Box(P          R      mAP50  mAP50-95): 100% ━━━━━━━━━━━━ 7/7 11.3it/s 0.6s.1s\n",
            "                   all        199        609       0.98      0.986      0.992      0.804\n",
            "\n",
            "      Epoch    GPU_mem   box_loss   cls_loss   dfl_loss  Instances       Size\n",
            "\u001b[K      32/60      3.62G     0.8203     0.4415      1.052          5        640: 100% ━━━━━━━━━━━━ 91/91 5.6it/s 16.2s0.4s\n",
            "\u001b[K                 Class     Images  Instances      Box(P          R      mAP50  mAP50-95): 100% ━━━━━━━━━━━━ 7/7 11.3it/s 0.6s.1s\n",
            "                   all        199        609      0.983      0.993      0.993       0.81\n",
            "\n",
            "      Epoch    GPU_mem   box_loss   cls_loss   dfl_loss  Instances       Size\n",
            "\u001b[K      33/60      3.65G     0.8199     0.4395      1.054          4        640: 100% ━━━━━━━━━━━━ 91/91 5.6it/s 16.2s0.4s\n",
            "\u001b[K                 Class     Images  Instances      Box(P          R      mAP50  mAP50-95): 100% ━━━━━━━━━━━━ 7/7 11.4it/s 0.6s.1s\n",
            "                   all        199        609      0.985      0.987      0.993      0.804\n",
            "\n",
            "      Epoch    GPU_mem   box_loss   cls_loss   dfl_loss  Instances       Size\n",
            "\u001b[K      34/60      3.69G     0.8074     0.4202      1.046          4        640: 100% ━━━━━━━━━━━━ 91/91 5.6it/s 16.2s0.4s\n",
            "\u001b[K                 Class     Images  Instances      Box(P          R      mAP50  mAP50-95): 100% ━━━━━━━━━━━━ 7/7 11.3it/s 0.6s.1s\n",
            "                   all        199        609       0.98      0.995      0.993        0.8\n",
            "\n",
            "      Epoch    GPU_mem   box_loss   cls_loss   dfl_loss  Instances       Size\n",
            "\u001b[K      35/60      3.71G     0.8129     0.4226      1.048          5        640: 100% ━━━━━━━━━━━━ 91/91 5.6it/s 16.2s0.4s\n",
            "\u001b[K                 Class     Images  Instances      Box(P          R      mAP50  mAP50-95): 100% ━━━━━━━━━━━━ 7/7 11.3it/s 0.6s.1s\n",
            "                   all        199        609      0.983      0.989      0.993      0.793\n",
            "\n",
            "      Epoch    GPU_mem   box_loss   cls_loss   dfl_loss  Instances       Size\n",
            "\u001b[K      36/60      3.78G     0.8169     0.4222      1.049          3        640: 100% ━━━━━━━━━━━━ 91/91 5.6it/s 16.2s0.4s\n",
            "\u001b[K                 Class     Images  Instances      Box(P          R      mAP50  mAP50-95): 100% ━━━━━━━━━━━━ 7/7 11.3it/s 0.6s.1s\n",
            "                   all        199        609      0.985      0.992      0.992      0.816\n",
            "\n",
            "      Epoch    GPU_mem   box_loss   cls_loss   dfl_loss  Instances       Size\n",
            "\u001b[K      37/60      3.83G     0.7871     0.4068      1.035          7        640: 100% ━━━━━━━━━━━━ 91/91 5.6it/s 16.2s0.4s\n",
            "\u001b[K                 Class     Images  Instances      Box(P          R      mAP50  mAP50-95): 100% ━━━━━━━━━━━━ 7/7 11.3it/s 0.6s.1s\n",
            "                   all        199        609      0.987       0.99      0.993      0.806\n",
            "\n",
            "      Epoch    GPU_mem   box_loss   cls_loss   dfl_loss  Instances       Size\n",
            "\u001b[K      38/60      3.95G     0.7905     0.4064      1.044         10        640: 100% ━━━━━━━━━━━━ 91/91 5.6it/s 16.2s0.4s\n",
            "\u001b[K                 Class     Images  Instances      Box(P          R      mAP50  mAP50-95): 100% ━━━━━━━━━━━━ 7/7 11.4it/s 0.6s.1s\n",
            "                   all        199        609      0.987       0.99      0.993      0.809\n",
            "\n",
            "      Epoch    GPU_mem   box_loss   cls_loss   dfl_loss  Instances       Size\n",
            "\u001b[K      39/60      3.99G     0.7845      0.401      1.048          4        640: 100% ━━━━━━━━━━━━ 91/91 5.6it/s 16.2s0.4s\n",
            "\u001b[K                 Class     Images  Instances      Box(P          R      mAP50  mAP50-95): 100% ━━━━━━━━━━━━ 7/7 11.4it/s 0.6s.1s\n",
            "                   all        199        609      0.989       0.99      0.993      0.812\n",
            "\n",
            "      Epoch    GPU_mem   box_loss   cls_loss   dfl_loss  Instances       Size\n",
            "\u001b[K      40/60      4.06G      0.781     0.4007      1.034         12        640: 100% ━━━━━━━━━━━━ 91/91 5.6it/s 16.2s0.4s\n",
            "\u001b[K                 Class     Images  Instances      Box(P          R      mAP50  mAP50-95): 100% ━━━━━━━━━━━━ 7/7 11.3it/s 0.6s.1s\n",
            "                   all        199        609      0.982      0.995      0.993        0.8\n",
            "\n",
            "      Epoch    GPU_mem   box_loss   cls_loss   dfl_loss  Instances       Size\n",
            "\u001b[K      41/60      4.11G     0.7733     0.4022      1.038          5        640: 100% ━━━━━━━━━━━━ 91/91 5.6it/s 16.2s0.4s\n",
            "\u001b[K                 Class     Images  Instances      Box(P          R      mAP50  mAP50-95): 100% ━━━━━━━━━━━━ 7/7 11.3it/s 0.6s.1s\n",
            "                   all        199        609      0.985      0.995      0.993      0.813\n",
            "\n",
            "      Epoch    GPU_mem   box_loss   cls_loss   dfl_loss  Instances       Size\n",
            "\u001b[K      42/60       4.2G     0.7679     0.3948      1.027          7        640: 100% ━━━━━━━━━━━━ 91/91 5.6it/s 16.2s0.4s\n",
            "\u001b[K                 Class     Images  Instances      Box(P          R      mAP50  mAP50-95): 100% ━━━━━━━━━━━━ 7/7 11.3it/s 0.6s.1s\n",
            "                   all        199        609      0.985       0.99      0.993      0.813\n",
            "\n",
            "      Epoch    GPU_mem   box_loss   cls_loss   dfl_loss  Instances       Size\n",
            "\u001b[K      43/60      4.23G     0.7731     0.3955      1.033          3        640: 100% ━━━━━━━━━━━━ 91/91 5.6it/s 16.2s0.4s\n",
            "\u001b[K                 Class     Images  Instances      Box(P          R      mAP50  mAP50-95): 100% ━━━━━━━━━━━━ 7/7 11.3it/s 0.6s.1s\n",
            "                   all        199        609      0.978      0.992      0.993      0.812\n",
            "\n",
            "      Epoch    GPU_mem   box_loss   cls_loss   dfl_loss  Instances       Size\n",
            "\u001b[K      44/60       4.3G     0.7597      0.387      1.026          7        640: 100% ━━━━━━━━━━━━ 91/91 5.6it/s 16.2s0.4s\n",
            "\u001b[K                 Class     Images  Instances      Box(P          R      mAP50  mAP50-95): 100% ━━━━━━━━━━━━ 7/7 11.3it/s 0.6s.1s\n",
            "                   all        199        609      0.987      0.989      0.993      0.815\n",
            "\n",
            "      Epoch    GPU_mem   box_loss   cls_loss   dfl_loss  Instances       Size\n",
            "\u001b[K      45/60      4.36G      0.752     0.3801      1.021          6        640: 100% ━━━━━━━━━━━━ 91/91 5.6it/s 16.2s0.4s\n",
            "\u001b[K                 Class     Images  Instances      Box(P          R      mAP50  mAP50-95): 100% ━━━━━━━━━━━━ 7/7 11.3it/s 0.6s.1s\n",
            "                   all        199        609      0.982          1      0.993      0.819\n",
            "\n",
            "      Epoch    GPU_mem   box_loss   cls_loss   dfl_loss  Instances       Size\n",
            "\u001b[K      46/60      4.47G     0.7489     0.3812       1.02          5        640: 100% ━━━━━━━━━━━━ 91/91 5.6it/s 16.2s0.4s\n",
            "\u001b[K                 Class     Images  Instances      Box(P          R      mAP50  mAP50-95): 100% ━━━━━━━━━━━━ 7/7 11.4it/s 0.6s.1s\n",
            "                   all        199        609      0.984      0.996      0.993      0.817\n",
            "\n",
            "      Epoch    GPU_mem   box_loss   cls_loss   dfl_loss  Instances       Size\n",
            "\u001b[K      47/60       4.5G     0.7373     0.3745      1.016         11        640: 100% ━━━━━━━━━━━━ 91/91 5.6it/s 16.2s0.4s\n",
            "\u001b[K                 Class     Images  Instances      Box(P          R      mAP50  mAP50-95): 100% ━━━━━━━━━━━━ 7/7 11.3it/s 0.6s.1s\n",
            "                   all        199        609      0.985      0.993      0.993      0.815\n",
            "\n",
            "      Epoch    GPU_mem   box_loss   cls_loss   dfl_loss  Instances       Size\n",
            "\u001b[K      48/60      4.57G      0.738     0.3753      1.018          6        640: 100% ━━━━━━━━━━━━ 91/91 5.6it/s 16.2s0.4s\n",
            "\u001b[K                 Class     Images  Instances      Box(P          R      mAP50  mAP50-95): 100% ━━━━━━━━━━━━ 7/7 11.3it/s 0.6s.1s\n",
            "                   all        199        609      0.982      0.996      0.993      0.816\n",
            "\n",
            "      Epoch    GPU_mem   box_loss   cls_loss   dfl_loss  Instances       Size\n",
            "\u001b[K      49/60      4.63G     0.7211     0.3626       1.01          3        640: 100% ━━━━━━━━━━━━ 91/91 5.6it/s 16.2s0.4s\n",
            "\u001b[K                 Class     Images  Instances      Box(P          R      mAP50  mAP50-95): 100% ━━━━━━━━━━━━ 7/7 11.4it/s 0.6s.1s\n",
            "                   all        199        609      0.985      0.991      0.993      0.811\n",
            "\n",
            "      Epoch    GPU_mem   box_loss   cls_loss   dfl_loss  Instances       Size\n",
            "\u001b[K      50/60      4.75G     0.7197     0.3612      1.004          7        640: 100% ━━━━━━━━━━━━ 91/91 5.6it/s 16.2s0.4s\n",
            "\u001b[K                 Class     Images  Instances      Box(P          R      mAP50  mAP50-95): 100% ━━━━━━━━━━━━ 7/7 11.4it/s 0.6s.1s\n",
            "                   all        199        609      0.984      0.989      0.993      0.817\n",
            "Closing dataloader mosaic\n",
            "\n",
            "      Epoch    GPU_mem   box_loss   cls_loss   dfl_loss  Instances       Size\n",
            "\u001b[K      51/60      4.78G     0.6984     0.3247      1.027          3        640: 100% ━━━━━━━━━━━━ 91/91 5.6it/s 16.3s0.4s\n",
            "\u001b[K                 Class     Images  Instances      Box(P          R      mAP50  mAP50-95): 100% ━━━━━━━━━━━━ 7/7 11.2it/s 0.6s.1s\n",
            "                   all        199        609      0.985      0.997      0.993      0.808\n",
            "\n",
            "      Epoch    GPU_mem   box_loss   cls_loss   dfl_loss  Instances       Size\n",
            "\u001b[K      52/60      4.85G     0.6702     0.3005     0.9978          3        640: 100% ━━━━━━━━━━━━ 91/91 5.7it/s 16.1s0.4s\n",
            "\u001b[K                 Class     Images  Instances      Box(P          R      mAP50  mAP50-95): 100% ━━━━━━━━━━━━ 7/7 11.2it/s 0.6s.1s\n",
            "                   all        199        609      0.986      0.997      0.993      0.818\n",
            "\n",
            "      Epoch    GPU_mem   box_loss   cls_loss   dfl_loss  Instances       Size\n",
            "\u001b[K      53/60      4.91G     0.6641     0.2974     0.9955          3        640: 100% ━━━━━━━━━━━━ 91/91 5.7it/s 16.1s0.4s\n",
            "\u001b[K                 Class     Images  Instances      Box(P          R      mAP50  mAP50-95): 100% ━━━━━━━━━━━━ 7/7 11.3it/s 0.6s.1s\n",
            "                   all        199        609      0.985      0.992      0.993      0.821\n",
            "\n",
            "      Epoch    GPU_mem   box_loss   cls_loss   dfl_loss  Instances       Size\n",
            "\u001b[K      54/60      4.99G     0.6585     0.2941     0.9982          2        640: 100% ━━━━━━━━━━━━ 91/91 5.7it/s 16.1s0.4s\n",
            "\u001b[K                 Class     Images  Instances      Box(P          R      mAP50  mAP50-95): 100% ━━━━━━━━━━━━ 7/7 11.3it/s 0.6s.1s\n",
            "                   all        199        609       0.99      0.995      0.993      0.824\n",
            "\n",
            "      Epoch    GPU_mem   box_loss   cls_loss   dfl_loss  Instances       Size\n",
            "\u001b[K      55/60      5.03G     0.6495     0.2877     0.9929          3        640: 100% ━━━━━━━━━━━━ 91/91 5.7it/s 16.1s0.4s\n",
            "\u001b[K                 Class     Images  Instances      Box(P          R      mAP50  mAP50-95): 100% ━━━━━━━━━━━━ 7/7 11.3it/s 0.6s.1s\n",
            "                   all        199        609      0.985      0.998      0.993      0.819\n",
            "\n",
            "      Epoch    GPU_mem   box_loss   cls_loss   dfl_loss  Instances       Size\n",
            "\u001b[K      56/60       5.1G     0.6374      0.282     0.9829          3        640: 100% ━━━━━━━━━━━━ 91/91 5.7it/s 16.1s0.4s\n",
            "\u001b[K                 Class     Images  Instances      Box(P          R      mAP50  mAP50-95): 100% ━━━━━━━━━━━━ 7/7 11.3it/s 0.6s.1s\n",
            "                   all        199        609      0.989      0.996      0.993      0.825\n",
            "\n",
            "      Epoch    GPU_mem   box_loss   cls_loss   dfl_loss  Instances       Size\n",
            "\u001b[K      57/60      5.15G     0.6168     0.2719     0.9754          3        640: 100% ━━━━━━━━━━━━ 91/91 5.7it/s 16.1s0.4s\n",
            "\u001b[K                 Class     Images  Instances      Box(P          R      mAP50  mAP50-95): 100% ━━━━━━━━━━━━ 7/7 11.4it/s 0.6s.1s\n",
            "                   all        199        609      0.986      0.998      0.993       0.82\n",
            "\n",
            "      Epoch    GPU_mem   box_loss   cls_loss   dfl_loss  Instances       Size\n",
            "\u001b[K      58/60      5.23G     0.6101     0.2715      0.976          3        640: 100% ━━━━━━━━━━━━ 91/91 5.7it/s 16.1s0.4s\n",
            "\u001b[K                 Class     Images  Instances      Box(P          R      mAP50  mAP50-95): 100% ━━━━━━━━━━━━ 7/7 11.3it/s 0.6s.1s\n",
            "                   all        199        609      0.985      0.996      0.993       0.82\n",
            "\n",
            "      Epoch    GPU_mem   box_loss   cls_loss   dfl_loss  Instances       Size\n",
            "\u001b[K      59/60       5.3G     0.6061     0.2677     0.9658          3        640: 100% ━━━━━━━━━━━━ 91/91 5.7it/s 16.1s0.4s\n",
            "\u001b[K                 Class     Images  Instances      Box(P          R      mAP50  mAP50-95): 100% ━━━━━━━━━━━━ 7/7 11.3it/s 0.6s.1s\n",
            "                   all        199        609      0.985      0.996      0.993      0.822\n",
            "\n",
            "      Epoch    GPU_mem   box_loss   cls_loss   dfl_loss  Instances       Size\n",
            "\u001b[K      60/60      5.37G     0.5936     0.2649     0.9719          3        640: 100% ━━━━━━━━━━━━ 91/91 5.6it/s 16.2s0.4s\n",
            "\u001b[K                 Class     Images  Instances      Box(P          R      mAP50  mAP50-95): 100% ━━━━━━━━━━━━ 7/7 11.4it/s 0.6s.1s\n",
            "                   all        199        609      0.985          1      0.993      0.825\n",
            "\n",
            "60 epochs completed in 0.296 hours.\n",
            "Optimizer stripped from /home/21502396/Searle_Jack_21502396/model_training/runs/detect/train2/weights/last.pt, 22.5MB\n",
            "Optimizer stripped from /home/21502396/Searle_Jack_21502396/model_training/runs/detect/train2/weights/best.pt, 22.5MB\n",
            "\n",
            "Validating /home/21502396/Searle_Jack_21502396/model_training/runs/detect/train2/weights/best.pt...\n",
            "Ultralytics 8.3.206 🚀 Python-3.13.5 torch-2.8.0+cu128 CUDA:0 (NVIDIA GeForce RTX 3060, 12022MiB)\n",
            "Model summary (fused): 72 layers, 11,125,971 parameters, 0 gradients, 28.4 GFLOPs\n",
            "\u001b[K                 Class     Images  Instances      Box(P          R      mAP50  mAP50-95): 100% ━━━━━━━━━━━━ 7/7 8.6it/s 0.8s0.2s\n",
            "                   all        199        609      0.989      0.996      0.993      0.826\n",
            "Speed: 0.2ms preprocess, 2.3ms inference, 0.0ms loss, 0.2ms postprocess per image\n",
            "Results saved to \u001b[1m/home/21502396/Searle_Jack_21502396/model_training/runs/detect/train2\u001b[0m\n",
            "💡 Learn more at https://docs.ultralytics.com/modes/train\n"
          ]
        }
      ],
      "source": [
        "!yolo detect train data=training_data/data.yaml model=yolov8s.pt epochs=60 imgsz=640"
      ]
    },
    {
      "cell_type": "markdown",
      "metadata": {
        "id": "vv0EYWJ5V6mC"
      },
      "source": [
        "The training algorithm will parse the images in the training and validation directories and then start training the model. At the end of each training epoch, the program runs the model on the validation dataset and reports the resulting mAP, precision, and recall. As training continues, the mAP should generally increase with each epoch. Training will end once it goes through the number of epochs specified by `epochs`.\n",
        "\n",
        "> **NOTE:** Make sure to allow training to run to completion, because an optimizer runs at the end of training that strips out unneeded layers from the model.\n",
        "\n",
        "The best trained model weights will be saved in `content/runs/detect/train/weights/best.pt`. Additional information about training is saved in the `content/runs/detect/train` folder, including a `results.png` file that shows how loss, precision, recall, and mAP progressed over each epoch."
      ]
    },
    {
      "cell_type": "markdown",
      "metadata": {
        "id": "vo8BJRXeg0Ap"
      },
      "source": [
        "#6.&nbsp;Test Model"
      ]
    },
    {
      "cell_type": "markdown",
      "metadata": {
        "id": "BX3PTrEPacGY"
      },
      "source": [
        "The model has been trained; now it's time to test it! The commands below run the model on the images in the validation folder and then display the results for the first 10 images. This is a good way to confirm your model is working as expected. Click Play on the blocks below to see how your model performs."
      ]
    },
    {
      "cell_type": "code",
      "execution_count": 22,
      "metadata": {
        "colab": {
          "base_uri": "https://localhost:8080/"
        },
        "id": "PooP5Vjsg2Jn",
        "outputId": "e40b4d74-5dd3-4d5d-d28f-707f0a702efe"
      },
      "outputs": [
        {
          "name": "stderr",
          "output_type": "stream",
          "text": [
            "3650.19s - pydevd: Sending message related to process being replaced timed-out after 5 seconds\n"
          ]
        },
        {
          "name": "stdout",
          "output_type": "stream",
          "text": [
            "Creating new Ultralytics Settings v0.0.6 file ✅ \n",
            "View Ultralytics Settings with 'yolo settings' or at '/home/21502396/.config/Ultralytics/settings.json'\n",
            "Update Settings with 'yolo settings key=value', i.e. 'yolo settings runs_dir=path/to/dir'. For help see https://docs.ultralytics.com/quickstart/#ultralytics-settings.\n",
            "Ultralytics 8.3.206 🚀 Python-3.13.5 torch-2.8.0+cu128 CUDA:0 (NVIDIA GeForce RTX 3060, 12022MiB)\n",
            "Model summary (fused): 72 layers, 11,125,971 parameters, 0 gradients, 28.4 GFLOPs\n",
            "\n",
            "image 1/199 /home/21502396/Searle_Jack_21502396/model_training/training_data/valid/images/002D0FCC-59A4-4CFA-B552-1D78BE76C830_jpg.rf.fec29cbdba503ff8501bdb3226c24764.jpg: 224x640 4 Characters, 41.4ms\n",
            "image 2/199 /home/21502396/Searle_Jack_21502396/model_training/training_data/valid/images/00E95F7D-C9A2-4016-AFB0-3F8B578F20D9_jpg.rf.e75e5e3baf4af0778239bd2184196295.jpg: 352x640 3 Characters, 34.5ms\n",
            "image 3/199 /home/21502396/Searle_Jack_21502396/model_training/training_data/valid/images/0332F080-4B90-471B-8F8D-0494F974007F_1_102_o_jpg.rf.8fa666bb05df5cb68244ec053b0fb517.jpg: 288x640 3 Characters, 29.9ms\n",
            "image 4/199 /home/21502396/Searle_Jack_21502396/model_training/training_data/valid/images/03335477-1586-4F9D-ADDB-23D575E11648_4_5005_c_jpg.rf.96e796a063d4a6f611600e24a39ac214.jpg: 256x640 3 Characters, 28.9ms\n",
            "image 5/199 /home/21502396/Searle_Jack_21502396/model_training/training_data/valid/images/0B990DEC-1F68-4208-AFD9-34F6EAF0FE29_4_5005_c_jpeg.rf.9589cc8b8227452997ce7e0e091752a6.jpg: 320x640 3 Characters, 29.5ms\n",
            "image 6/199 /home/21502396/Searle_Jack_21502396/model_training/training_data/valid/images/0C575B3E-EE63-4048-9D35-CE7C0E7CF3A7_jpg.rf.892db741063b2702f7cd97f6bfb02ea8.jpg: 192x640 3 Characters, 29.3ms\n",
            "image 7/199 /home/21502396/Searle_Jack_21502396/model_training/training_data/valid/images/10EC0A27-19FD-4A3E-9A9E-C0163BD7D19A_jpg.rf.e2a9e1f8d830670a2dec56e9b85ede55.jpg: 288x640 3 Characters, 3.7ms\n",
            "image 8/199 /home/21502396/Searle_Jack_21502396/model_training/training_data/valid/images/1C0515ED-04C2-40D3-96DC-629192700F14_jpg.rf.6a45f96ec96dba7eaf856e8473078614.jpg: 640x576 3 Characters, 29.4ms\n",
            "image 9/199 /home/21502396/Searle_Jack_21502396/model_training/training_data/valid/images/1D71973B-4E3A-42C3-82E5-D0BC31F58280_jpg.rf.9d7daf772fe5330693b354b39ac3ea91.jpg: 544x640 3 Characters, 29.6ms\n",
            "image 10/199 /home/21502396/Searle_Jack_21502396/model_training/training_data/valid/images/20250813_111823_jpg.rf.918a8aee78e3526febe3be54a9377475.jpg: 288x640 3 Characters, 3.7ms\n",
            "image 11/199 /home/21502396/Searle_Jack_21502396/model_training/training_data/valid/images/20250829_093054_jpg.rf.e918376a6cdbae482a495d80baa0ea61.jpg: 576x640 3 Characters, 29.0ms\n",
            "image 12/199 /home/21502396/Searle_Jack_21502396/model_training/training_data/valid/images/20250829_093056_jpg.rf.93269ea56aff057dd76b25f695b4dea1.jpg: 384x640 3 Characters, 29.1ms\n",
            "image 13/199 /home/21502396/Searle_Jack_21502396/model_training/training_data/valid/images/20250829_093401_jpg.rf.f94bc75e93bc55c60ae54f3fe2c94f62.jpg: 352x640 3 Characters, 4.1ms\n",
            "image 14/199 /home/21502396/Searle_Jack_21502396/model_training/training_data/valid/images/20250911_125313_jpg.rf.8df7926fb29518d49bc07ee62139e2f5.jpg: 544x640 3 Characters, 5.8ms\n",
            "image 15/199 /home/21502396/Searle_Jack_21502396/model_training/training_data/valid/images/20250911_125935_jpg.rf.850b44c97dc340fea162887e58360e09.jpg: 576x640 3 Characters, 5.9ms\n",
            "image 16/199 /home/21502396/Searle_Jack_21502396/model_training/training_data/valid/images/20250911_143814-0-_jpg.rf.8866dd82a741f97107f33babc2c4de4e.jpg: 576x640 3 Characters, 5.7ms\n",
            "image 17/199 /home/21502396/Searle_Jack_21502396/model_training/training_data/valid/images/20250911_144155_jpg.rf.2159b2351e86674739a4aed763bf6056.jpg: 448x640 3 Characters, 30.4ms\n",
            "image 18/199 /home/21502396/Searle_Jack_21502396/model_training/training_data/valid/images/20250912_103227_jpg.rf.f48c22d9577f2d80a60b3c20214dfe06.jpg: 352x640 3 Characters, 4.1ms\n",
            "image 19/199 /home/21502396/Searle_Jack_21502396/model_training/training_data/valid/images/20250912_140433_jpg.rf.19556342b66bb05a4758e3df5cd6e1ed.jpg: 512x640 3 Characters, 29.3ms\n",
            "image 20/199 /home/21502396/Searle_Jack_21502396/model_training/training_data/valid/images/20250912_140555_jpg.rf.a821ebc47b888dadc586e58ff4743eac.jpg: 384x640 3 Characters, 4.7ms\n",
            "image 21/199 /home/21502396/Searle_Jack_21502396/model_training/training_data/valid/images/20250912_141130_jpg.rf.a33f5b0c7d5aa3bf31e0cf0e4fa76456.jpg: 448x640 3 Characters, 5.1ms\n",
            "image 22/199 /home/21502396/Searle_Jack_21502396/model_training/training_data/valid/images/20250912_141221_jpg.rf.7e10169cac800df17833390f235f611a.jpg: 320x640 3 Characters, 3.8ms\n",
            "image 23/199 /home/21502396/Searle_Jack_21502396/model_training/training_data/valid/images/20250912_141417_jpg.rf.f7aab93531fc481c457b900ef843d5e1.jpg: 352x640 3 Characters, 4.1ms\n",
            "image 24/199 /home/21502396/Searle_Jack_21502396/model_training/training_data/valid/images/20250912_141437_jpg.rf.6cbd3f5b13b107618e983c651f79cd14.jpg: 320x640 3 Characters, 3.8ms\n",
            "image 25/199 /home/21502396/Searle_Jack_21502396/model_training/training_data/valid/images/20250912_141438_jpg.rf.63f2aec7b0d4149dab6a4c31a2f79083.jpg: 352x640 3 Characters, 4.1ms\n",
            "image 26/199 /home/21502396/Searle_Jack_21502396/model_training/training_data/valid/images/20250912_141609_jpg.rf.9a78bc61778353b077f3681b4a1b6290.jpg: 448x640 3 Characters, 5.1ms\n",
            "image 27/199 /home/21502396/Searle_Jack_21502396/model_training/training_data/valid/images/20250912_142121_jpg.rf.afd566888a5d7f7fe28cae162d869c75.jpg: 576x640 3 Characters, 5.9ms\n",
            "image 28/199 /home/21502396/Searle_Jack_21502396/model_training/training_data/valid/images/20250912_142155_jpg.rf.d80cc3e227abd90bc0bc6c42ab9f2c09.jpg: 416x640 3 Characters, 30.1ms\n",
            "image 29/199 /home/21502396/Searle_Jack_21502396/model_training/training_data/valid/images/20250919_114740_jpg.rf.42c3ee9366d33a965e2fa8d383d51caa.jpg: 544x640 3 Characters, 5.9ms\n",
            "image 30/199 /home/21502396/Searle_Jack_21502396/model_training/training_data/valid/images/20250919_115608_jpg.rf.ecb9c92de9321e7f4fb76a88bf7fb56b.jpg: 640x544 5 Characters, 28.9ms\n",
            "image 31/199 /home/21502396/Searle_Jack_21502396/model_training/training_data/valid/images/20250919_121223_jpg.rf.ff594aa67c88019e0cb2dc55645debe1.jpg: 320x640 3 Characters, 3.8ms\n",
            "image 32/199 /home/21502396/Searle_Jack_21502396/model_training/training_data/valid/images/20250919_121224_jpg.rf.1826cf2e5cd234eb504de575fd721263.jpg: 352x640 3 Characters, 4.1ms\n",
            "image 33/199 /home/21502396/Searle_Jack_21502396/model_training/training_data/valid/images/20250919_121253_jpg.rf.b37ab64610d53a137a1044a5cc5b4b06.jpg: 640x640 3 Characters, 6.3ms\n",
            "image 34/199 /home/21502396/Searle_Jack_21502396/model_training/training_data/valid/images/20250919_121430_jpg.rf.ca5d536776e39eca85306fffeec4eebd.jpg: 448x640 3 Characters, 5.1ms\n",
            "image 35/199 /home/21502396/Searle_Jack_21502396/model_training/training_data/valid/images/20250919_121441_jpg.rf.90af8db3dc821639009f0d62c595cf5c.jpg: 416x640 3 Characters, 4.9ms\n",
            "image 36/199 /home/21502396/Searle_Jack_21502396/model_training/training_data/valid/images/20250919_121443_jpg.rf.74c4e377b4401ce4f6a5d565d631edc8.jpg: 384x640 3 Characters, 4.7ms\n",
            "image 37/199 /home/21502396/Searle_Jack_21502396/model_training/training_data/valid/images/20250919_123420_jpg.rf.f507fc343c44ddf5e95cc299b460663c.jpg: 352x640 3 Characters, 4.1ms\n",
            "image 38/199 /home/21502396/Searle_Jack_21502396/model_training/training_data/valid/images/20250919_124214_jpg.rf.b0f319d15bfefe511fdaced7a85bd9d0.jpg: 416x640 3 Characters, 4.9ms\n",
            "image 39/199 /home/21502396/Searle_Jack_21502396/model_training/training_data/valid/images/20250919_124352_jpg.rf.729a44f907f802db03dfe3fe3aabee57.jpg: 448x640 3 Characters, 5.1ms\n",
            "image 40/199 /home/21502396/Searle_Jack_21502396/model_training/training_data/valid/images/20250919_130517_jpg.rf.752ae363e8ebf4072f48c76b5800e1b1.jpg: 384x640 3 Characters, 4.7ms\n",
            "image 41/199 /home/21502396/Searle_Jack_21502396/model_training/training_data/valid/images/20250919_130642_jpg.rf.be048f4ed1760614715503c02891b8a8.jpg: 640x544 3 Characters, 5.8ms\n",
            "image 42/199 /home/21502396/Searle_Jack_21502396/model_training/training_data/valid/images/20250919_130815_jpg.rf.b6d67be0a4b6786db333f2806465a2b0.jpg: 512x640 3 Characters, 5.6ms\n",
            "image 43/199 /home/21502396/Searle_Jack_21502396/model_training/training_data/valid/images/20250919_130943_jpg.rf.36ddf9c879b48f525359435aa20cc06f.jpg: 320x640 3 Characters, 3.8ms\n",
            "image 44/199 /home/21502396/Searle_Jack_21502396/model_training/training_data/valid/images/20250919_131716_jpg.rf.1897662e32e9095c1ba97761b2f12b1d.jpg: 384x640 3 Characters, 4.7ms\n",
            "image 45/199 /home/21502396/Searle_Jack_21502396/model_training/training_data/valid/images/20250919_131718_jpg.rf.cd971a6cdaa9e4178da9982a68a1c53a.jpg: 320x640 3 Characters, 3.8ms\n",
            "image 46/199 /home/21502396/Searle_Jack_21502396/model_training/training_data/valid/images/20250919_131726_jpg.rf.72db846db1039c32fe29422c850bd3cf.jpg: 480x640 3 Characters, 29.6ms\n",
            "image 47/199 /home/21502396/Searle_Jack_21502396/model_training/training_data/valid/images/20250919_131807_jpg.rf.3af051e743e2c5017bec1edc05e896f2.jpg: 416x640 3 Characters, 4.9ms\n",
            "image 48/199 /home/21502396/Searle_Jack_21502396/model_training/training_data/valid/images/20250919_132251_jpg.rf.1721303832aaa85b41bc7a45fc4d58cd.jpg: 640x416 4 Characters, 29.2ms\n",
            "image 49/199 /home/21502396/Searle_Jack_21502396/model_training/training_data/valid/images/20250919_132405_jpg.rf.77167cd25840cab3e0bac7427c2c1a55.jpg: 384x640 3 Characters, 4.7ms\n",
            "image 50/199 /home/21502396/Searle_Jack_21502396/model_training/training_data/valid/images/20250919_132618_jpg.rf.e5e8082e3b2257da4fe9e630d6db0a4f.jpg: 352x640 3 Characters, 4.1ms\n",
            "image 51/199 /home/21502396/Searle_Jack_21502396/model_training/training_data/valid/images/20250919_132719_jpg.rf.3f36428c871d93288d6bda0f3d45bbd1.jpg: 320x640 4 Characters, 3.8ms\n",
            "image 52/199 /home/21502396/Searle_Jack_21502396/model_training/training_data/valid/images/220FAE77-DEBD-4E51-A9B7-C2D97700A774_jpg.rf.068024944d9654262e742d980d630657.jpg: 288x640 3 Characters, 3.7ms\n",
            "image 53/199 /home/21502396/Searle_Jack_21502396/model_training/training_data/valid/images/257DF1A2-DD17-4BA9-B523-F474024D97E1_4_5005_c_jpg.rf.25628e6dcfcbaa3972673e50f0d7f8fa.jpg: 288x640 3 Characters, 3.4ms\n",
            "image 54/199 /home/21502396/Searle_Jack_21502396/model_training/training_data/valid/images/2997A0FB-2BF5-4C53-A0BA-AC085F985221_jpg.rf.1a27481bbdec6b7cdb83bf7b0222aadf.jpg: 224x640 4 Characters, 3.3ms\n",
            "image 55/199 /home/21502396/Searle_Jack_21502396/model_training/training_data/valid/images/2A3F76B9-8760-4BA0-9BE9-CFE7A3D10E8B_jpg.rf.eb6cc7886d3b87ca90ec2bf438171b40.jpg: 192x640 4 Characters, 3.1ms\n",
            "image 56/199 /home/21502396/Searle_Jack_21502396/model_training/training_data/valid/images/2C9A273E-6A23-48F8-8216-96414A7C3FA7_4_5005_c_jpg.rf.7d2ab30a98b6f898c1b163b81d275085.jpg: 640x192 3 Characters, 29.2ms\n",
            "image 57/199 /home/21502396/Searle_Jack_21502396/model_training/training_data/valid/images/2DA2955E-6E36-4BDC-8953-F28F22EBAE9C_jpg.rf.0171087ccc03a3a3f73c193c48282321.jpg: 224x640 4 Characters, 3.3ms\n",
            "image 58/199 /home/21502396/Searle_Jack_21502396/model_training/training_data/valid/images/2F9E06C0-D850-4E7C-8AF0-F8041D4042A1_jpg.rf.dfa274a70635990941b21890200780ca.jpg: 352x640 3 Characters, 4.1ms\n",
            "image 59/199 /home/21502396/Searle_Jack_21502396/model_training/training_data/valid/images/303717DF-C17F-4735-A7A9-E2BF648F4D0E_jpg.rf.a9ab6e0150f5a5e3db3b456d28c9d44d.jpg: 192x640 4 Characters, 3.1ms\n",
            "image 60/199 /home/21502396/Searle_Jack_21502396/model_training/training_data/valid/images/31B9A4AA-9D4D-40F4-99F2-0B401159C6E1_jpg.rf.a7fd6e506c89e2ddcdfaa5a6e076441f.jpg: 384x640 3 Characters, 4.7ms\n",
            "image 61/199 /home/21502396/Searle_Jack_21502396/model_training/training_data/valid/images/35F0E9B6-095B-4CE2-8147-50ABDD7EC300_jpg.rf.d1cd5a7e3bac2668093b8d9ad186bca1.jpg: 192x640 4 Characters, 3.1ms\n",
            "image 62/199 /home/21502396/Searle_Jack_21502396/model_training/training_data/valid/images/375617D4-FB8A-4A98-A4A4-44768864AF1C_jpg.rf.79d38761748e110ddb9de50b481101ad.jpg: 256x640 3 Characters, 3.5ms\n",
            "image 63/199 /home/21502396/Searle_Jack_21502396/model_training/training_data/valid/images/388FF153-8A0B-438F-B7DB-DDEB9F1B3CDC_jpg.rf.c9f2051e90b1112c9dc35febe0a7d7c1.jpg: 288x640 4 Characters, 3.6ms\n",
            "image 64/199 /home/21502396/Searle_Jack_21502396/model_training/training_data/valid/images/3907FE57-4A0D-4BCD-80E4-46C0CCA3D806_jpg.rf.a6bdc5e5fefa747bf95450c7c21392cb.jpg: 352x640 3 Characters, 4.1ms\n",
            "image 65/199 /home/21502396/Searle_Jack_21502396/model_training/training_data/valid/images/3A5E1D70-9535-495B-AF16-784DABD92EEE_jpg.rf.fb6f624dbcd9d651aac3ecb7fdb96b00.jpg: 384x640 4 Characters, 4.8ms\n",
            "image 66/199 /home/21502396/Searle_Jack_21502396/model_training/training_data/valid/images/3DAD8373-796E-442B-928D-8BE51B66CF93_jpg.rf.fc4bf0522c5cb5dededaa7d363db35f9.jpg: 224x640 4 Characters, 3.6ms\n",
            "image 67/199 /home/21502396/Searle_Jack_21502396/model_training/training_data/valid/images/3DFB5D6F-0A05-4AE2-A7BF-70AE3EAF9EB4_jpg.rf.0a0a94271279df1b0887a125cfd20ac5.jpg: 288x640 3 Characters, 3.7ms\n",
            "image 68/199 /home/21502396/Searle_Jack_21502396/model_training/training_data/valid/images/3FB756F8-AA57-4CE0-A4C6-D790BB18C646_jpg.rf.b49885f6aba77992eedde699e56a583f.jpg: 224x640 4 Characters, 3.4ms\n",
            "image 69/199 /home/21502396/Searle_Jack_21502396/model_training/training_data/valid/images/429E3313-346B-4C15-945D-08F7D1D57FDF_jpg.rf.6e874d7357ed365db7c98ded29ed0c79.jpg: 256x640 3 Characters, 3.6ms\n",
            "image 70/199 /home/21502396/Searle_Jack_21502396/model_training/training_data/valid/images/43CB61A2-97DA-4065-9BD8-47CF16CDFCCE_jpg.rf.abe995dec53fca2ddf77ab824178a3c7.jpg: 416x640 3 Characters, 4.9ms\n",
            "image 71/199 /home/21502396/Searle_Jack_21502396/model_training/training_data/valid/images/4F1E845A-A548-4303-9F49-F98C14B4507D_jpg.rf.aef15439e525039f8776e6f6abd43e52.jpg: 320x640 3 Characters, 3.8ms\n",
            "image 72/199 /home/21502396/Searle_Jack_21502396/model_training/training_data/valid/images/4FFBAD24-A665-4E8B-B0D4-0F7A61B2B07A_4_5005_c_jpeg.rf.e1b08608b35caaf184068f7a25a4f248.jpg: 416x640 3 Characters, 4.9ms\n",
            "image 73/199 /home/21502396/Searle_Jack_21502396/model_training/training_data/valid/images/566494B0-8082-4BCB-BDBF-529A31F74F99_4_5005_c_jpg.rf.8a8ab06a575adc3353dd72a28beeec32.jpg: 384x640 3 Characters, 4.7ms\n",
            "image 74/199 /home/21502396/Searle_Jack_21502396/model_training/training_data/valid/images/587B3D06-6EB4-49DB-A7F3-161D1B2033DE_4_5005_c_jpg.rf.8da9b4b7c2cf411a1a30a8f0160146ad.jpg: 576x640 3 Characters, 5.9ms\n",
            "image 75/199 /home/21502396/Searle_Jack_21502396/model_training/training_data/valid/images/5D3DDFA0-0D32-429F-BE12-52CE445517C5_4_5005_c_jpeg.rf.21d8de772ecc0b39bf1ff2c4bda610f0.jpg: 320x640 3 Characters, 3.8ms\n",
            "image 76/199 /home/21502396/Searle_Jack_21502396/model_training/training_data/valid/images/67C46927-0811-4491-9D5D-8B15F8A38407_4_5005_c_jpeg.rf.f670d90bc111d59a60f00c9308372dd7.jpg: 320x640 3 Characters, 3.6ms\n",
            "image 77/199 /home/21502396/Searle_Jack_21502396/model_training/training_data/valid/images/6AEB5AA1-693E-488E-B5FC-558F4AF43C03_jpg.rf.bd2c720b218a2c65e06a5d04a5f72833.jpg: 288x640 3 Characters, 3.6ms\n",
            "image 78/199 /home/21502396/Searle_Jack_21502396/model_training/training_data/valid/images/6C7FC4A9-CA57-482B-AA4E-16B9351A7FCE_jpg.rf.fa29e857d0b74696e72cf5e60a28c1c6.jpg: 288x640 3 Characters, 3.4ms\n",
            "image 79/199 /home/21502396/Searle_Jack_21502396/model_training/training_data/valid/images/704F6F4E-7024-43BF-872C-FBD1D7C99E8D_jpg.rf.45439aa5f1ae789da0dcd0d61d1c8083.jpg: 288x640 3 Characters, 3.5ms\n",
            "image 80/199 /home/21502396/Searle_Jack_21502396/model_training/training_data/valid/images/70874991-B164-4F9D-8E71-2887CD35AAF2_jpg.rf.b6a02f208abcf93b36ebb8269cf7c17f.jpg: 320x640 3 Characters, 3.8ms\n",
            "image 81/199 /home/21502396/Searle_Jack_21502396/model_training/training_data/valid/images/72E942A2-AE07-4646-AA0D-F40CE5B5CD25_jpg.rf.20d2e59e9a7f7ecb883327cd0d078aab.jpg: 288x640 3 Characters, 3.6ms\n",
            "image 82/199 /home/21502396/Searle_Jack_21502396/model_training/training_data/valid/images/75FCE95D-F0DF-4FE2-A206-D1302D8CB037_jpg.rf.5cb23a28facfd9008c6c24ecd32573ce.jpg: 416x640 3 Characters, 4.9ms\n",
            "image 83/199 /home/21502396/Searle_Jack_21502396/model_training/training_data/valid/images/77493067-2454-45A7-A94E-3EA19E073DC5_jpg.rf.a3ab854caa4bad76bdfb74686b6f9d64.jpg: 320x640 3 Characters, 3.8ms\n",
            "image 84/199 /home/21502396/Searle_Jack_21502396/model_training/training_data/valid/images/78D1D041-AEC2-47B6-B8F1-813B1F8B2751_jpg.rf.6d498994e997696f46186c28f3b4914a.jpg: 352x640 3 Characters, 4.1ms\n",
            "image 85/199 /home/21502396/Searle_Jack_21502396/model_training/training_data/valid/images/7A73659A-3EF0-4D95-A913-F90790D2F53C_4_5005_c_jpg.rf.ff8d16e4a99c494e3115c1a638ec7d7c.jpg: 416x640 3 Characters, 4.9ms\n",
            "image 86/199 /home/21502396/Searle_Jack_21502396/model_training/training_data/valid/images/7C6F6A2E-99FC-4E8A-8D4A-61CA828A8CEA_jpg.rf.c9deafc8834d5deadc455b5bd88b43b5.jpg: 288x640 3 Characters, 3.6ms\n",
            "image 87/199 /home/21502396/Searle_Jack_21502396/model_training/training_data/valid/images/7D889402-D978-40AF-8DDD-2ACC83B895B1_1_105_c_jpeg.rf.71beb4be4366d5bf5e284bbd91415507.jpg: 320x640 3 Characters, 3.8ms\n",
            "image 88/199 /home/21502396/Searle_Jack_21502396/model_training/training_data/valid/images/7DA2E28E-9234-4F6C-9FE7-73AC32822EAA_jpg.rf.a5d875ca6b04c842daf040f9f2e6d32e.jpg: 224x640 4 Characters, 3.3ms\n",
            "image 89/199 /home/21502396/Searle_Jack_21502396/model_training/training_data/valid/images/7FF10B20-2897-45D5-AA9C-EC24D10CA10F_4_5005_c_jpeg.rf.5e06dc429e920ae0e19d1ea714e23769.jpg: 288x640 3 Characters, 3.6ms\n",
            "image 90/199 /home/21502396/Searle_Jack_21502396/model_training/training_data/valid/images/85161303-59C6-4FF0-9121-289293DD99C6_1_105_c_jpeg.rf.a73deb9fa2431357893a64f8a8564c0e.jpg: 288x640 3 Characters, 3.5ms\n",
            "image 91/199 /home/21502396/Searle_Jack_21502396/model_training/training_data/valid/images/85E05098-FB69-41D5-A4A9-C28F709E16C8_4_5005_c_jpeg.rf.3034d38328248b350ca3e86a0753c747.jpg: 160x640 3 Characters, 29.3ms\n",
            "image 92/199 /home/21502396/Searle_Jack_21502396/model_training/training_data/valid/images/86FC6327-1B3D-4BA8-82E5-342733D29C95_jpg.rf.bab1e102bbbe254e1840e543dfa5741b.jpg: 320x640 3 Characters, 3.9ms\n",
            "image 93/199 /home/21502396/Searle_Jack_21502396/model_training/training_data/valid/images/8A70109D-EC05-4A55-8AA8-F9520F9E1891_4_5005_c_jpg.rf.1bef0985ea46955dea69c7399d6f2f84.jpg: 640x640 4 Characters, 6.3ms\n",
            "image 94/199 /home/21502396/Searle_Jack_21502396/model_training/training_data/valid/images/8FA5908C-159B-4B80-8C24-A2BAD79D882D_1_105_c_jpg.rf.0c90ade55fa6ca9eb544639ad31fbbbe.jpg: 256x640 3 Characters, 3.5ms\n",
            "image 95/199 /home/21502396/Searle_Jack_21502396/model_training/training_data/valid/images/942BFE40-0711-469C-AC25-075EC1C03514_jpg.rf.8ec3c80c42f3c6a339e16a3a91c0ca51.jpg: 288x640 3 Characters, 3.6ms\n",
            "image 96/199 /home/21502396/Searle_Jack_21502396/model_training/training_data/valid/images/97EE57A4-9CD3-4C31-8147-762B0F93B468_jpg.rf.12b0279785b2a4cf651983487690ab29.jpg: 384x640 3 Characters, 4.7ms\n",
            "image 97/199 /home/21502396/Searle_Jack_21502396/model_training/training_data/valid/images/97EE57A4-9CD3-4C31-8147-762B0F93B468_jpg.rf.f6e9c257b1e178bdab21dad761490836.jpg: 448x640 3 Characters, 5.1ms\n",
            "image 98/199 /home/21502396/Searle_Jack_21502396/model_training/training_data/valid/images/9BC24F9A-2314-42D0-9F20-371855421AB1_4_5005_c_jpg.rf.df938666cd55f26e6d82175042c07989.jpg: 640x192 3 Characters, 3.2ms\n",
            "image 99/199 /home/21502396/Searle_Jack_21502396/model_training/training_data/valid/images/9D844553-A6FE-4AA0-97EA-AC9F1CA0E1FA_jpg.rf.e1932e29b0befb1974fed02c89c8b934.jpg: 256x640 3 Characters, 3.5ms\n",
            "image 100/199 /home/21502396/Searle_Jack_21502396/model_training/training_data/valid/images/9E68DC26-AF32-4F0E-8147-E8EA955C8AFA_4_5005_c_jpg.rf.b730040511109df01d50cc8d7e95860e.jpg: 192x640 3 Characters, 3.1ms\n",
            "image 101/199 /home/21502396/Searle_Jack_21502396/model_training/training_data/valid/images/9F1AEEE9-71AB-49A7-814C-1E5817452F33_1_105_c_jpg.rf.bfe401640e5be26fb863b38a2e74d4e3.jpg: 512x640 3 Characters, 5.6ms\n",
            "image 102/199 /home/21502396/Searle_Jack_21502396/model_training/training_data/valid/images/9FE0CC4A-E69B-457B-9882-295FB947A465_4_5005_c_jpg.rf.afd4bd053df553a0887d004bedda8f9f.jpg: 288x640 3 Characters, 3.6ms\n",
            "image 103/199 /home/21502396/Searle_Jack_21502396/model_training/training_data/valid/images/AB01C13E-4E03-41FA-8F01-C75004F020E6_jpg.rf.cf88639674309097019a2d72d0a6f4c4.jpg: 288x640 3 Characters, 3.4ms\n",
            "image 104/199 /home/21502396/Searle_Jack_21502396/model_training/training_data/valid/images/ABB08957-CCF7-48AB-8868-AE921AE3EF03_1_102_o_jpg.rf.dc2ab9897e325faa999a61815d851134.jpg: 256x640 3 Characters, 3.5ms\n",
            "image 105/199 /home/21502396/Searle_Jack_21502396/model_training/training_data/valid/images/B71B8890-488D-44C2-A97F-9A23CBA17D97_jpg.rf.61f543927529336ed0292782586eee10.jpg: 448x640 3 Characters, 5.1ms\n",
            "image 106/199 /home/21502396/Searle_Jack_21502396/model_training/training_data/valid/images/B75D5741-BD37-48CC-86C2-1CB564151463_jpg.rf.a3eaaa35f8a7061d2f8517c4e611ace1.jpg: 384x640 3 Characters, 4.7ms\n",
            "image 107/199 /home/21502396/Searle_Jack_21502396/model_training/training_data/valid/images/B9065D08-B91E-4BBD-9CE3-7C102589AC7D_jpg.rf.4869e5984409eb9981d8428d42c39ad1.jpg: 256x640 3 Characters, 3.5ms\n",
            "image 108/199 /home/21502396/Searle_Jack_21502396/model_training/training_data/valid/images/BC1BCC20-3E31-40A4-9EFB-4F381D1B3783_1_102_o_jpg.rf.ba0018da136eca8b92014f476de964ab.jpg: 256x640 3 Characters, 3.3ms\n",
            "image 109/199 /home/21502396/Searle_Jack_21502396/model_training/training_data/valid/images/BFF81FC4-2355-4814-9C1E-2027517E3FBC_1_105_c_jpg.rf.ee5c0fa233128ac4a2d6d8297917f2f8.jpg: 256x640 3 Characters, 3.3ms\n",
            "image 110/199 /home/21502396/Searle_Jack_21502396/model_training/training_data/valid/images/C018DD60-DD9A-4552-B85F-21091E041778_4_5005_c_jpg.rf.65946e8d39d94a5fe70e1a382d73d99d.jpg: 288x640 3 Characters, 3.6ms\n",
            "image 111/199 /home/21502396/Searle_Jack_21502396/model_training/training_data/valid/images/C01D8711-53FF-4161-9A9D-22C863EA3C4A_1_102_o_jpg.rf.d745a3dd0e7091f6e88499b585cd0268.jpg: 256x640 3 Characters, 3.5ms\n",
            "image 112/199 /home/21502396/Searle_Jack_21502396/model_training/training_data/valid/images/C06746B9-9FE0-4F47-9CF2-9B2FCD2FB699_jpg.rf.323cf71cc1a06c0a6b044b62b825135b.jpg: 320x640 4 Characters, 3.8ms\n",
            "image 113/199 /home/21502396/Searle_Jack_21502396/model_training/training_data/valid/images/C74DA936-6034-4281-B04C-DE86BCEDE973_jpg.rf.6cbdd33d9b0e458c4ace31993c57076e.jpg: 256x640 3 Characters, 3.5ms\n",
            "image 114/199 /home/21502396/Searle_Jack_21502396/model_training/training_data/valid/images/C9B3D8C4-EE70-4243-A8CE-D10E45EE7172_1_102_o_jpg.rf.7969e460ea40c2b0e2e00e80cbc598df.jpg: 256x640 3 Characters, 3.3ms\n",
            "image 115/199 /home/21502396/Searle_Jack_21502396/model_training/training_data/valid/images/CF518851-B8D3-4D4B-BB83-043B77A32F82_jpg.rf.edcc052f540f05d600aa54276636882a.jpg: 224x640 4 Characters, 3.3ms\n",
            "image 116/199 /home/21502396/Searle_Jack_21502396/model_training/training_data/valid/images/D085B486-741C-475E-80E2-E61ADC912A65_1_105_c_jpg.rf.e09b53554e865a3af2b67f65b1486fce.jpg: 288x640 3 Characters, 3.6ms\n",
            "image 117/199 /home/21502396/Searle_Jack_21502396/model_training/training_data/valid/images/D41A37B8-7EC9-4F2F-90DC-778532E5D4AE_jpg.rf.0956fa19725b5f98d5f70fc75e015eb7.jpg: 224x640 4 Characters, 3.5ms\n",
            "image 118/199 /home/21502396/Searle_Jack_21502396/model_training/training_data/valid/images/D5123022-3E3D-4A95-9E2D-340FD6F7761B_jpg.rf.29dc15a04c90685888ae1e496983c203.jpg: 288x640 3 Characters, 3.4ms\n",
            "image 119/199 /home/21502396/Searle_Jack_21502396/model_training/training_data/valid/images/D5DE21F7-3E8A-4299-95E4-CC879D2B6B5F_jpg.rf.2ac49268beadfed6ea7cdaa7458a3970.jpg: 352x640 3 Characters, 3.8ms\n",
            "image 120/199 /home/21502396/Searle_Jack_21502396/model_training/training_data/valid/images/D6666BB5-0B0A-4115-A126-F9102BBF9550_4_5005_c_jpeg.rf.93bb3bf4ae7c27b0a6106ac542530c91.jpg: 352x640 3 Characters, 3.6ms\n",
            "image 121/199 /home/21502396/Searle_Jack_21502396/model_training/training_data/valid/images/DABB15EA-07AC-42EF-84C0-8A0C3AA3675D_1_102_o_jpg.rf.f75d29808479cbcb64c8d202f6955d97.jpg: 352x640 3 Characters, 3.6ms\n",
            "image 122/199 /home/21502396/Searle_Jack_21502396/model_training/training_data/valid/images/DSC_0010_JPG.rf.b11755838f647b1114b8fa572de2b60c.jpg: 480x640 3 Characters, 5.1ms\n",
            "image 123/199 /home/21502396/Searle_Jack_21502396/model_training/training_data/valid/images/DSC_8277_JPG.rf.b6e7f48a2200126102a03e34c7b47e09.jpg: 320x640 3 Characters, 3.6ms\n",
            "image 124/199 /home/21502396/Searle_Jack_21502396/model_training/training_data/valid/images/DSC_8282_JPG.rf.5f93239c98e6a99dde0c88a054a364c4.jpg: 352x640 3 Characters, 3.8ms\n",
            "image 125/199 /home/21502396/Searle_Jack_21502396/model_training/training_data/valid/images/DSC_8307_JPG.rf.71b23f0143a7a7c2825d1d428e313879.jpg: 352x640 3 Characters, 3.6ms\n",
            "image 126/199 /home/21502396/Searle_Jack_21502396/model_training/training_data/valid/images/DSC_8316_JPG.rf.6cc2ec20b497a3966fa1ba9a9571c7ba.jpg: 352x640 3 Characters, 3.6ms\n",
            "image 127/199 /home/21502396/Searle_Jack_21502396/model_training/training_data/valid/images/DSC_8320_JPG.rf.d9c73f3eeecc85ef4c5c308be9db70ad.jpg: 352x640 3 Characters, 3.6ms\n",
            "image 128/199 /home/21502396/Searle_Jack_21502396/model_training/training_data/valid/images/DSC_8355_JPG.rf.357da9786f563a353e0e15ed99242ff9.jpg: 384x640 3 Characters, 4.4ms\n",
            "image 129/199 /home/21502396/Searle_Jack_21502396/model_training/training_data/valid/images/DSC_8366_JPG.rf.80aca3ce92937aaac2bdce0f7c2be08a.jpg: 352x640 3 Characters, 3.8ms\n",
            "image 130/199 /home/21502396/Searle_Jack_21502396/model_training/training_data/valid/images/DSC_8398_JPG.rf.6e399164617481b7db6d404813077364.jpg: 352x640 3 Characters, 3.6ms\n",
            "image 131/199 /home/21502396/Searle_Jack_21502396/model_training/training_data/valid/images/DSC_8484_JPG.rf.0e58558de9a48de3dfbf6c2d5132ad63.jpg: 352x640 3 Characters, 3.6ms\n",
            "image 132/199 /home/21502396/Searle_Jack_21502396/model_training/training_data/valid/images/DSC_8496_JPG.rf.b4ec4226f4341fafab05e77f10c8a6d7.jpg: 480x640 3 Characters, 5.1ms\n",
            "image 133/199 /home/21502396/Searle_Jack_21502396/model_training/training_data/valid/images/DSC_8706_JPG.rf.9bf3cf946e578190f66d28c9f17b8383.jpg: 256x640 3 Characters, 3.3ms\n",
            "image 134/199 /home/21502396/Searle_Jack_21502396/model_training/training_data/valid/images/DSC_8765_JPG.rf.a24bf1a4e2aaf59a7c4305126e2cd677.jpg: 352x640 3 Characters, 3.8ms\n",
            "image 135/199 /home/21502396/Searle_Jack_21502396/model_training/training_data/valid/images/DSC_8992_JPG.rf.660da366dfbb009401a5bd3a35b9d010.jpg: 320x640 3 Characters, 3.6ms\n",
            "image 136/199 /home/21502396/Searle_Jack_21502396/model_training/training_data/valid/images/DSC_9821_JPG.rf.46b63a7989022ced35d1f185f9e2c59e.jpg: 640x640 3 Characters, 5.9ms\n",
            "image 137/199 /home/21502396/Searle_Jack_21502396/model_training/training_data/valid/images/DSC_9839_JPG.rf.5772fe68b90a69bf143f4268e7036fe2.jpg: 640x608 3 Characters, 29.4ms\n",
            "image 138/199 /home/21502396/Searle_Jack_21502396/model_training/training_data/valid/images/DSC_9849_JPG.rf.27cd7d94ec7912e85bf41dca5b5c3586.jpg: 352x640 3 Characters, 3.8ms\n",
            "image 139/199 /home/21502396/Searle_Jack_21502396/model_training/training_data/valid/images/E8F15D39-E1D5-4B7C-A709-F6ADB46B07B6_jpg.rf.db981dea933e793016c008bc9a79a9f3.jpg: 320x640 3 Characters, 3.6ms\n",
            "image 140/199 /home/21502396/Searle_Jack_21502396/model_training/training_data/valid/images/EB507AC8-0FD3-4192-A111-1DF3D72FB6A2_jpg.rf.fc883eaec412f5087b116d76bcd2670d.jpg: 480x640 3 Characters, 5.1ms\n",
            "image 141/199 /home/21502396/Searle_Jack_21502396/model_training/training_data/valid/images/EBBDCFBB-DCAF-4BF3-B13F-FD22A931B812_jpg.rf.768b338b22701cf5b15431bf38f1803e.jpg: 192x640 4 Characters, 2.9ms\n",
            "image 142/199 /home/21502396/Searle_Jack_21502396/model_training/training_data/valid/images/EEB70CAC-6134-41B6-B905-91792F1E4324_jpg.rf.08eba86d63138752b7a02fb9182eaf84.jpg: 288x640 3 Characters, 3.4ms\n",
            "image 143/199 /home/21502396/Searle_Jack_21502396/model_training/training_data/valid/images/EF304339-10D6-41E6-B4DF-B10BFB8F7125_jpg.rf.d80c1d512e963f2c21584624c9a143a3.jpg: 224x640 4 Characters, 3.1ms\n",
            "image 144/199 /home/21502396/Searle_Jack_21502396/model_training/training_data/valid/images/F4E05951-66A2-41C6-BFEE-137B6444512A_jpg.rf.9fd10fb15f725e2fc4bb8285db46a32e.jpg: 288x640 3 Characters, 3.4ms\n",
            "image 145/199 /home/21502396/Searle_Jack_21502396/model_training/training_data/valid/images/FB556F98-7F13-4433-9F68-6F1671CCB034_1_105_c_jpg.rf.750925e35370debb47e1c29a57f5c1b0.jpg: 288x640 3 Characters, 3.2ms\n",
            "image 146/199 /home/21502396/Searle_Jack_21502396/model_training/training_data/valid/images/IMG_0519_jpeg.rf.ed6c9f7a42c7abf3d966722bb9d7f0fd.jpg: 640x608 3 Characters, 5.8ms\n",
            "image 147/199 /home/21502396/Searle_Jack_21502396/model_training/training_data/valid/images/IMG_0524_jpeg.rf.4026717ff63b38aeef894275fd9f77f0.jpg: 352x640 4 Characters, 3.8ms\n",
            "image 148/199 /home/21502396/Searle_Jack_21502396/model_training/training_data/valid/images/IMG_0525_jpeg.rf.e81ef4722f1a50d93ff56ea78764e956.jpg: 288x640 3 Characters, 3.4ms\n",
            "image 149/199 /home/21502396/Searle_Jack_21502396/model_training/training_data/valid/images/IMG_0526_jpeg.rf.82dfa380a6b8abc95ebb87c8cd1cbfd4.jpg: 640x608 3 Characters, 5.8ms\n",
            "image 150/199 /home/21502396/Searle_Jack_21502396/model_training/training_data/valid/images/IMG_0534_jpeg.rf.7b948badfec1a06ee16c761258950b91.jpg: 384x640 3 Characters, 4.4ms\n",
            "image 151/199 /home/21502396/Searle_Jack_21502396/model_training/training_data/valid/images/IMG_0535_jpeg.rf.6f0633eb836a49dfbcaeb9d05b091ae2.jpg: 352x640 3 Characters, 3.8ms\n",
            "image 152/199 /home/21502396/Searle_Jack_21502396/model_training/training_data/valid/images/IMG_0539_jpeg.rf.1cfc10f5bbdcc57787dbc63aedbf72e8.jpg: 384x640 3 Characters, 4.4ms\n",
            "image 153/199 /home/21502396/Searle_Jack_21502396/model_training/training_data/valid/images/IMG_0540_jpeg.rf.57d572b087a4f4ae126e2934bdd34cda.jpg: 384x640 3 Characters, 4.2ms\n",
            "image 154/199 /home/21502396/Searle_Jack_21502396/model_training/training_data/valid/images/IMG_0542_jpeg.rf.ac1741197d5510e4abe389d143d56329.jpg: 384x640 3 Characters, 4.2ms\n",
            "image 155/199 /home/21502396/Searle_Jack_21502396/model_training/training_data/valid/images/IMG_0543_jpeg.rf.b6647a240f3843c2adba718002419b5d.jpg: 320x640 3 Characters, 3.6ms\n",
            "image 156/199 /home/21502396/Searle_Jack_21502396/model_training/training_data/valid/images/IMG_0547_jpeg.rf.70380f68e8f6878f5aa875eb987d6e00.jpg: 416x640 3 Characters, 4.6ms\n",
            "image 157/199 /home/21502396/Searle_Jack_21502396/model_training/training_data/valid/images/IMG_0554_jpeg.rf.8ee08ba2e15fa195ea24a6322505a71d.jpg: 256x640 2 Characters, 3.3ms\n",
            "image 158/199 /home/21502396/Searle_Jack_21502396/model_training/training_data/valid/images/IMG_0555_jpeg.rf.3aa88e49b45a943f93dd38ac167803bd.jpg: 352x640 3 Characters, 3.8ms\n",
            "image 159/199 /home/21502396/Searle_Jack_21502396/model_training/training_data/valid/images/IMG_0566_jpeg.rf.c4b5011f4c5b67f2e241bc73f519387c.jpg: 352x640 3 Characters, 3.6ms\n",
            "image 160/199 /home/21502396/Searle_Jack_21502396/model_training/training_data/valid/images/IMG_20250820_111936872_jpg.rf.9075350bca9255a3cb1a6b0046003a31.jpg: 256x640 3 Characters, 3.3ms\n",
            "image 161/199 /home/21502396/Searle_Jack_21502396/model_training/training_data/valid/images/IMG_20250820_111942680_jpg.rf.b2983a43f7e0741270713a5c8820eaf2.jpg: 384x640 3 Characters, 4.4ms\n",
            "image 162/199 /home/21502396/Searle_Jack_21502396/model_training/training_data/valid/images/IMG_20250820_111946339_jpg.rf.90507714a380a0e982c84d59f32684e6.jpg: 384x640 3 Characters, 4.2ms\n",
            "image 163/199 /home/21502396/Searle_Jack_21502396/model_training/training_data/valid/images/IMG_20250820_112007306_jpg.rf.b7b63312ac3cddf6c614384560aa79df.jpg: 384x640 3 Characters, 4.2ms\n",
            "image 164/199 /home/21502396/Searle_Jack_21502396/model_training/training_data/valid/images/IMG_20250820_112038564_jpg.rf.961ef8fed41966c7d713a659b67a35b3.jpg: 320x640 3 Characters, 3.6ms\n",
            "image 165/199 /home/21502396/Searle_Jack_21502396/model_training/training_data/valid/images/IMG_20250820_112056899_jpg.rf.68c2cbf846ef342aad2385ea6ac105e8.jpg: 640x640 3 Characters, 5.9ms\n",
            "image 166/199 /home/21502396/Searle_Jack_21502396/model_training/training_data/valid/images/IMG_20250820_112107223_jpg.rf.16ae72f0ea41d4349c37bd81ebd9af12.jpg: 352x640 3 Characters, 3.8ms\n",
            "image 167/199 /home/21502396/Searle_Jack_21502396/model_training/training_data/valid/images/IMG_20250820_112140264_jpg.rf.e49f68a079382c178549933b3bd8f040.jpg: 480x640 3 Characters, 5.2ms\n",
            "image 168/199 /home/21502396/Searle_Jack_21502396/model_training/training_data/valid/images/IMG_20250820_112207476_jpg.rf.9725154eb83428a6777c6c19fab8f5e2.jpg: 352x640 3 Characters, 3.8ms\n",
            "image 169/199 /home/21502396/Searle_Jack_21502396/model_training/training_data/valid/images/IMG_20250820_112211417_jpg.rf.c6b73e52504fd20ff6004cbdaa8db41a.jpg: 256x640 3 Characters, 3.3ms\n",
            "image 170/199 /home/21502396/Searle_Jack_21502396/model_training/training_data/valid/images/IMG_20250820_112212842_jpg.rf.b899d4c5fca102e1a2c0db76b06da381.jpg: 288x640 3 Characters, 3.4ms\n",
            "image 171/199 /home/21502396/Searle_Jack_21502396/model_training/training_data/valid/images/IMG_20250820_112634405_jpg.rf.44af1e903ab5cf139d6a828f2d332f13.jpg: 288x640 3 Characters, 3.2ms\n",
            "image 172/199 /home/21502396/Searle_Jack_21502396/model_training/training_data/valid/images/IMG_20250820_113035832_jpg.rf.c6309d8b896d930beb6b0e979d1be2d0.jpg: 256x640 3 Characters, 3.3ms\n",
            "image 173/199 /home/21502396/Searle_Jack_21502396/model_training/training_data/valid/images/IMG_20250820_113244698_jpg.rf.3938590912dfc30945ad2dd12aa48681.jpg: 352x640 3 Characters, 3.8ms\n",
            "image 174/199 /home/21502396/Searle_Jack_21502396/model_training/training_data/valid/images/IMG_20250820_113247389_jpg.rf.67190281894a44c6e1ac01911f4ff636.jpg: 288x640 6 Characters, 3.4ms\n",
            "image 175/199 /home/21502396/Searle_Jack_21502396/model_training/training_data/valid/images/IMG_20250820_113250399_jpg.rf.c2d1dad5a1f174f2aa858a9215198cd1.jpg: 640x640 3 Characters, 5.9ms\n",
            "image 176/199 /home/21502396/Searle_Jack_21502396/model_training/training_data/valid/images/IMG_20250820_113442248_jpg.rf.02dc757d311721ec465e1c3b66bef32e.jpg: 352x640 3 Characters, 3.8ms\n",
            "image 177/199 /home/21502396/Searle_Jack_21502396/model_training/training_data/valid/images/IMG_20250820_113443943_jpg.rf.4e9e14603c27362edc5f0c58c8b3a4e8.jpg: 320x640 3 Characters, 3.6ms\n",
            "image 178/199 /home/21502396/Searle_Jack_21502396/model_training/training_data/valid/images/IMG_20250820_113459769_jpg.rf.bb2b07263fe23f09742f8ee072505d08.jpg: 288x640 3 Characters, 3.4ms\n",
            "image 179/199 /home/21502396/Searle_Jack_21502396/model_training/training_data/valid/images/IMG_20250820_113526820_jpg.rf.7f20247865817f8bacbc0ae26ea0a59e.jpg: 640x640 3 Characters, 5.9ms\n",
            "image 180/199 /home/21502396/Searle_Jack_21502396/model_training/training_data/valid/images/IMG_20250820_113555724_jpg.rf.03c5b0a498eca25189dac5464dfcaf8c.jpg: 288x640 3 Characters, 3.4ms\n",
            "image 181/199 /home/21502396/Searle_Jack_21502396/model_training/training_data/valid/images/IMG_20250820_113604788_jpg.rf.c18fbc9dd46a8f1ff843882d1c6c8c01.jpg: 256x640 3 Characters, 3.3ms\n",
            "image 182/199 /home/21502396/Searle_Jack_21502396/model_training/training_data/valid/images/IMG_20250820_113628450_jpg.rf.6e4b1fed7f39aa4f83aa57355328e709.jpg: 320x640 3 Characters, 3.6ms\n",
            "image 183/199 /home/21502396/Searle_Jack_21502396/model_training/training_data/valid/images/IMG_20250820_113656888_jpg.rf.a75a033d9cee822b880fe68df5a93610.jpg: 384x640 3 Characters, 4.4ms\n",
            "image 184/199 /home/21502396/Searle_Jack_21502396/model_training/training_data/valid/images/IMG_20250820_113723361_jpg.rf.be67fc5eefb297866f2a03700ddee1f1.jpg: 256x640 3 Characters, 3.3ms\n",
            "image 185/199 /home/21502396/Searle_Jack_21502396/model_training/training_data/valid/images/IMG_20250820_113804228_jpg.rf.a6072c88858660b97b78d077632147e9.jpg: 352x640 3 Characters, 3.8ms\n",
            "image 186/199 /home/21502396/Searle_Jack_21502396/model_training/training_data/valid/images/IMG_20250820_113902158_jpg.rf.9cf60a2226d1b643919417f942a8bf8a.jpg: 640x448 4 Characters, 29.4ms\n",
            "image 187/199 /home/21502396/Searle_Jack_21502396/model_training/training_data/valid/images/IMG_20250820_114105915_jpg.rf.6e7686bffb8d064ec45a884c7d06731b.jpg: 352x640 3 Characters, 3.8ms\n",
            "image 188/199 /home/21502396/Searle_Jack_21502396/model_training/training_data/valid/images/IMG_20250820_114119036_jpg.rf.2dbe451d5bed069f8c8e1a5d71d54fed.jpg: 288x640 3 Characters, 3.4ms\n",
            "image 189/199 /home/21502396/Searle_Jack_21502396/model_training/training_data/valid/images/IMG_20250820_114128791_jpg.rf.a78e2e7ece65cf5b82d960e376d5cc44.jpg: 288x640 3 Characters, 3.2ms\n",
            "image 190/199 /home/21502396/Searle_Jack_21502396/model_training/training_data/valid/images/IMG_20250820_114133569_jpg.rf.969005176b4ee4990ac44f51c2e797b7.jpg: 448x640 3 Characters, 4.8ms\n",
            "image 191/199 /home/21502396/Searle_Jack_21502396/model_training/training_data/valid/images/IMG_20250820_114137387_jpg.rf.829e0dab4146144d46865ac9ce00e0f0.jpg: 416x640 3 Characters, 4.6ms\n",
            "image 192/199 /home/21502396/Searle_Jack_21502396/model_training/training_data/valid/images/IMG_20250820_114229132_jpg.rf.26a85ae58476299a308702bd110de3c1.jpg: 416x640 3 Characters, 4.4ms\n",
            "image 193/199 /home/21502396/Searle_Jack_21502396/model_training/training_data/valid/images/IMG_20250820_114231179_jpg.rf.dcba13bcf2a56b44b9cb97f4a6ae76c4.jpg: 416x640 3 Characters, 4.4ms\n",
            "image 194/199 /home/21502396/Searle_Jack_21502396/model_training/training_data/valid/images/IMG_20250820_114300404_jpg.rf.936d1bbf6d81285eb953910b3eec3741.jpg: 256x640 3 Characters, 3.3ms\n",
            "image 195/199 /home/21502396/Searle_Jack_21502396/model_training/training_data/valid/images/IMG_20250820_114346451_jpg.rf.029bef92cbad9310438a1300c134a4a9.jpg: 288x640 3 Characters, 3.4ms\n",
            "image 196/199 /home/21502396/Searle_Jack_21502396/model_training/training_data/valid/images/IMG_20250820_114355288_jpg.rf.c25a00b56f514b7bd4b25ba6ce633324.jpg: 256x640 3 Characters, 3.3ms\n",
            "image 197/199 /home/21502396/Searle_Jack_21502396/model_training/training_data/valid/images/IMG_20250820_114418427_jpg.rf.ae3c058bdb730fdbb767748368cd7197.jpg: 288x640 3 Characters, 3.4ms\n",
            "image 198/199 /home/21502396/Searle_Jack_21502396/model_training/training_data/valid/images/IMG_20250820_114433925_jpg.rf.cf9ea108e5b4a5e4a93d57d1642b98f4.jpg: 384x640 3 Characters, 4.4ms\n",
            "image 199/199 /home/21502396/Searle_Jack_21502396/model_training/training_data/valid/images/IMG_20250820_114538589_jpg.rf.340d8f8ccc2cc3aba78aa751163f75f1.jpg: 256x640 3 Characters, 3.3ms\n",
            "Speed: 0.5ms preprocess, 6.7ms inference, 1.1ms postprocess per image at shape (1, 3, 256, 640)\n",
            "Results saved to \u001b[1m/home/21502396/Searle_Jack_21502396/model_training/runs/detect/predict\u001b[0m\n",
            "💡 Learn more at https://docs.ultralytics.com/modes/predict\n"
          ]
        }
      ],
      "source": [
        "!yolo detect predict model=runs/detect/train2/weights/best.pt source=training_data/valid/images save=True"
      ]
    },
    {
      "cell_type": "code",
      "execution_count": 23,
      "metadata": {
        "colab": {
          "base_uri": "https://localhost:8080/",
          "height": 1000
        },
        "id": "zEEObQqoiGrs",
        "outputId": "474389dd-94e0-4d22-8af5-78b49fe9a860"
      },
      "outputs": [
        {
          "data": {
            "image/jpeg": "[encoded data removed]",
            "text/plain": [
              "<IPython.core.display.Image object>"
            ]
          },
          "metadata": {
            "image/jpeg": {
              "height": 400
            }
          },
          "output_type": "display_data"
        },
        {
          "name": "stdout",
          "output_type": "stream",
          "text": [
            "\n",
            "\n"
          ]
        },
        {
          "data": {
            "image/jpeg": "[encoded data removed]",
            "text/plain": [
              "<IPython.core.display.Image object>"
            ]
          },
          "metadata": {
            "image/jpeg": {
              "height": 400
            }
          },
          "output_type": "display_data"
        },
        {
          "name": "stdout",
          "output_type": "stream",
          "text": [
            "\n",
            "\n"
          ]
        },
        {
          "data": {
            "image/jpeg": "[encoded data removed]",
            "text/plain": [
              "<IPython.core.display.Image object>"
            ]
          },
          "metadata": {
            "image/jpeg": {
              "height": 400
            }
          },
          "output_type": "display_data"
        },
        {
          "name": "stdout",
          "output_type": "stream",
          "text": [
            "\n",
            "\n"
          ]
        },
        {
          "data": {
            "image/jpeg": "[encoded data removed]",
            "text/plain": [
              "<IPython.core.display.Image object>"
            ]
          },
          "metadata": {
            "image/jpeg": {
              "height": 400
            }
          },
          "output_type": "display_data"
        },
        {
          "name": "stdout",
          "output_type": "stream",
          "text": [
            "\n",
            "\n"
          ]
        },
        {
          "data": {
            "image/jpeg": "[encoded data removed]",
            "text/plain": [
              "<IPython.core.display.Image object>"
            ]
          },
          "metadata": {
            "image/jpeg": {
              "height": 400
            }
          },
          "output_type": "display_data"
        },
        {
          "name": "stdout",
          "output_type": "stream",
          "text": [
            "\n",
            "\n"
          ]
        },
        {
          "data": {
            "image/jpeg": "[encoded data removed]",
            "text/plain": [
              "<IPython.core.display.Image object>"
            ]
          },
          "metadata": {
            "image/jpeg": {
              "height": 400
            }
          },
          "output_type": "display_data"
        },
        {
          "name": "stdout",
          "output_type": "stream",
          "text": [
            "\n",
            "\n"
          ]
        },
        {
          "data": {
            "image/jpeg": "[encoded data removed]",
            "text/plain": [
              "<IPython.core.display.Image object>"
            ]
          },
          "metadata": {
            "image/jpeg": {
              "height": 400
            }
          },
          "output_type": "display_data"
        },
        {
          "name": "stdout",
          "output_type": "stream",
          "text": [
            "\n",
            "\n"
          ]
        },
        {
          "data": {
            "image/jpeg": "[encoded data removed]",
            "text/plain": [
              "<IPython.core.display.Image object>"
            ]
          },
          "metadata": {
            "image/jpeg": {
              "height": 400
            }
          },
          "output_type": "display_data"
        },
        {
          "name": "stdout",
          "output_type": "stream",
          "text": [
            "\n",
            "\n"
          ]
        },
        {
          "data": {
            "image/jpeg": "[encoded data removed]",
            "text/plain": [
              "<IPython.core.display.Image object>"
            ]
          },
          "metadata": {
            "image/jpeg": {
              "height": 400
            }
          },
          "output_type": "display_data"
        },
        {
          "name": "stdout",
          "output_type": "stream",
          "text": [
            "\n",
            "\n"
          ]
        },
        {
          "data": {
            "image/jpeg": "[encoded data removed]",
            "text/plain": [
              "<IPython.core.display.Image object>"
            ]
          },
          "metadata": {
            "image/jpeg": {
              "height": 400
            }
          },
          "output_type": "display_data"
        },
        {
          "name": "stdout",
          "output_type": "stream",
          "text": [
            "\n",
            "\n"
          ]
        }
      ],
      "source": [
        "import glob\n",
        "from IPython.display import Image, display\n",
        "for image_path in glob.glob(f'runs/detect/predict/*.jpg')[:10]:\n",
        "  display(Image(filename=image_path, height=400))\n",
        "  print('\\n')\n"
      ]
    },
    {
      "cell_type": "markdown",
      "metadata": {
        "id": "EGiQw_gWbSBa"
      },
      "source": [
        "The model should draw a box around each object of interest in each image. If it isn't doing a good job of detecting objects, here are a few tips:\n",
        "\n",
        "1. Double-check your dataset to make sure there are no labeling errors or conflicting examples.\n",
        "2. Increase the number of epochs used for training.\n",
        "3. Use a larger model size (e.g. `yolo11l.pt`).\n",
        "4. Add more images to the training dataset. See my [dataset video](https://www.youtube.com/watch?v=v0ssiOY6cfg) for tips on how to capture good training images and improve accuracy.\n",
        "\n",
        "You can also run the model on video files or other images images by uploading them to this notebook and using the above `!yolo detect predict` command, where `source` points to the location of the video file, image, or folder of images. The results will be saved in `runs/detect/predict`.\n",
        "\n",
        "Drawing boxes on images is great, but it isn't very useful in itself. It's also not very helpful to just run this models inside a Colab notebook: it's easier if we can just run it on a local computer. Continue to the next section to see how to download your newly trained model and run it on a local device."
      ]
    },
    {
      "cell_type": "markdown",
      "metadata": {
        "id": "W7yrFRViVczX"
      },
      "source": [
        "#7.&nbsp;Deploy Model"
      ]
    },
    {
      "cell_type": "markdown",
      "metadata": {
        "id": "FEtybPmB_ERi"
      },
      "source": [
        "Now that your custom model has been trained, it's ready to be downloaded and deployed in an application! YOLO models can run on a wide variety of hardware, including PCs, embedded systems, and phones. Ultralytics makes it easy to convert the YOLO models to various formats (`tflite`, `onnx`, etc.) and deploy them in a variety of environments.\n",
        "\n",
        "This section shows how to download the model and provides links to instructions for deploying it on your PC and edge devices like the Raspberry Pi."
      ]
    },
    {
      "cell_type": "markdown",
      "metadata": {
        "id": "IcoBAeHXa86W"
      },
      "source": [
        "## 7.1 Download YOLO Model\n",
        "\n",
        "First, zip and download the trained model by running the code blocks below.\n",
        "\n",
        "The code creates a folder named `my_model`, moves the model weights into it, and renames them from `best.pt` to `my_model.pt`. It also adds the training results in case you want to reference them later. It then zips the folder as `my_model.zip`."
      ]
    },
    {
      "cell_type": "code",
      "execution_count": 24,
      "metadata": {
        "colab": {
          "base_uri": "https://localhost:8080/"
        },
        "id": "qcBdnOA9v85S",
        "outputId": "e682f1e7-3984-4141-94da-b0176728943e"
      },
      "outputs": [
        {
          "name": "stderr",
          "output_type": "stream",
          "text": [
            "3889.04s - pydevd: Sending message related to process being replaced timed-out after 5 seconds\n",
            "3894.27s - pydevd: Sending message related to process being replaced timed-out after 5 seconds\n",
            "3899.73s - pydevd: Sending message related to process being replaced timed-out after 5 seconds\n"
          ]
        },
        {
          "name": "stdout",
          "output_type": "stream",
          "text": [
            "cp: cannot stat '/runs/detect/train2': No such file or directory\n",
            "/home/21502396/Searle_Jack_21502396/model_training/my_model\n"
          ]
        },
        {
          "name": "stderr",
          "output_type": "stream",
          "text": [
            "3904.94s - pydevd: Sending message related to process being replaced timed-out after 5 seconds\n"
          ]
        },
        {
          "name": "stdout",
          "output_type": "stream",
          "text": [
            "  adding: my_model.pt (deflated 8%)\n"
          ]
        },
        {
          "name": "stderr",
          "output_type": "stream",
          "text": [
            "3910.81s - pydevd: Sending message related to process being replaced timed-out after 5 seconds\n"
          ]
        },
        {
          "name": "stdout",
          "output_type": "stream",
          "text": [
            "\tzip warning: name not matched: 2\n",
            "\n",
            "zip error: Nothing to do! (try: zip -r my_model.zip . -i 2)\n",
            "[Errno 2] No such file or directory: '/content'\n",
            "/home/21502396/Searle_Jack_21502396/model_training/my_model\n"
          ]
        }
      ],
      "source": [
        "# Create \"my_model\" folder to store model weights and train results\n",
        "!mkdir my_model\n",
        "!cp runs/detect/train2/weights/best.pt my_model/my_model.pt\n",
        "!cp -r /runs/detect/train2 /my_model\n",
        "\n",
        "# Zip into \"my_model.zip\"\n",
        "%cd my_model\n",
        "!zip my_model.zip my_model.pt\n",
        "!zip -r my_model.zip 2\n",
        "%cd /content"
      ]
    },
    {
      "cell_type": "markdown",
      "metadata": {
        "id": "YL06c6pb_UqZ"
      },
      "source": [
        "## 7.2 Deploy YOLO Model on Local Devices\n",
        "\n",
        "Next, we'll take our downloaded model and run it on a local device. This section provides instructions showing how to deploy YOLO models on various devices.\n",
        "\n",
        "I wrote a basic Python script, `yolo_detect.py`, that shows how to load a model, run inference on an image source, parse the inference results, and display boxes around each detected class in the image. The [script](https://github.com/EdjeElectronics/Train-and-Deploy-YOLO-Models/blob/main/yolo_detect.py) gives an example of how to work with Ultralytics YOLO models in Python, and it can be used as a starting point for more advanced applications."
      ]
    },
    {
      "cell_type": "markdown",
      "metadata": {
        "id": "gzaJQ2sGEPhP"
      },
      "source": [
        "### 7.2.1 Deploy on PC (Windows, Linux, or macOS)\n",
        "\n",
        "The easiest way to run Ultralytics models on a PC is using Anaconda. Anaconda sets up a virtual Python environment and allows you to easily install Ultralytics and PyTorch. It automatically installs CUDA and cuDNN, which allows you to speed up model inference with your NVIDIA GPU.\n",
        "\n",
        "> **NOTE:** My YouTube video (link to be added) shows how to deploy your model on a PC. It walks through the following steps, so watch the video if you prefer having visual instructions.\n",
        "\n",
        "**1. Download and Install Anaconda**\n",
        "\n",
        "Go to the Anaconda download page at https://anaconda.com/download, click the “skip registration” button, and then download the package for your OS. When it's finished downloading, run the installer and click through the installation steps. You can use the default options for installation.\n",
        "\n",
        "**2. Set up virtual environment**\n",
        "\n",
        "Once it's installed, run Anaconda Prompt from the Start Bar. (If you're on macOS or Linux, just open a command terminal).\n",
        "\n",
        "Issue the following commands to create a new Python environment and activate it:\n",
        "\n",
        "```\n",
        "conda create --name yolo-env1 python=3.12 -y\n",
        "conda activate yolo-env1\n",
        "```\n",
        "\n",
        "Install Ultralytics (which also installs import libraries like OpenCV-Python, Numpy, and PyTorch) by issuing the following command:\n",
        "\n",
        "```\n",
        "pip install ultralytics\n",
        "```\n",
        "\n",
        "If you have an NVIDIA GPU, you can install the GPU-enabled version of PyTorch by issuing the following command:\n",
        "\n",
        "```\n",
        "pip install --upgrade torch torchvision torchaudio --index-url https://download.pytorch.org/whl/cu124\n",
        "```\n",
        "\n",
        "**3. Extract downloaded model**\n",
        "Take the `my_model.zip` file you downloaded in Step 7.1 and unzip it to a folder on your PC. In the Anaconda Prompt terminal, move into the unzipped folder using:\n",
        "\n",
        "```\n",
        "cd path/to/folder\n",
        "```\n",
        "\n",
        "**4. Download and run yolo_detect.py**\n",
        "\n",
        "Download the `yolo_detect.py` script into the `my_model` folder using:\n",
        "\n",
        "```\n",
        "curl -o yolo_detect.py https://raw.githubusercontent.com/EdjeElectronics/Train-and-Deploy-YOLO-Models/refs/heads/main/yolo_detect.py\n",
        "```\n",
        "\n",
        "Alright! We're ready to run the script. To run inference with a yolov8s model on a USB camera at 1280x720 resolution, issue:\n",
        "\n",
        "```\n",
        "python yolo_detect.py --model my_model.pt --source usb0 --resolution 1280x720\n",
        "```\n",
        "\n",
        "A window will appear showing a live feed from your webcam with boxes drawn around detected objects in each frame.\n",
        "\n",
        "You can also run the model on an video file, image, or folder of images. To see a full list of arguments for `yolo_detect.py`, issue `python yolo_detect.py --help` or see the [README file](https://github.com/EdjeElectronics/Train-and-Deploy-YOLO-Models/blob/main/README.md).\n",
        "\n",
        "\n"
      ]
    }
  ],
  "metadata": {
    "accelerator": "GPU",
    "colab": {
      "gpuType": "T4",
      "include_colab_link": true,
      "provenance": []
    },
    "kernelspec": {
      "display_name": "COMP3007_venv",
      "language": "python",
      "name": "python3"
    },
    "language_info": {
      "codemirror_mode": {
        "name": "ipython",
        "version": 3
      },
      "file_extension": ".py",
      "mimetype": "text/x-python",
      "name": "python",
      "nbconvert_exporter": "python",
      "pygments_lexer": "ipython3",
      "version": "3.13.5"
    }
  },
  "nbformat": 4,
  "nbformat_minor": 0
}
